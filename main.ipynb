{
 "cells": [
  {
   "cell_type": "markdown",
   "metadata": {},
   "source": [
    "### Датасет классификации \"Пульсары\"\n",
    "\n",
    "О датасете\n",
    "Этот датасет содержит параметры, которые характеризуют наблюдения за пульсарами. Включает такие переменные, как \"Mean_Integrated\", \"EK\", \"Skewness\", элементов кривой DMSNR (дисперсия, эксцесс, асимметрия) и целевой класс. Данные предназначены для задач классификации, где цель — предсказать, является ли объект пульсаром или нет, на основе предоставленных характеристик.\n",
    "\n",
    "Актуальность\n",
    "Классификация пульсаров является важной задачей в астрофизике, поскольку позволяет выделять истинные сигналы пульсаров среди большого количества ненужных данных. Это способствует более точному изучению таких астрономических объектов и их использования для других исследований. Обработка данных такого типа может также способствовать разработке более мощных алгоритмов классификации, используемых в других областях, где проблема соотношения сигнал/шум является критичной.\n",
    "\n",
    "Выбранная метрика\n",
    "Поскольку классы будут распределены в соотношении 1:1, стандартные метрики классификации, такие как точность (accuracy), могут быть использованы для оценки моделей. Однако, учитывая природу задачи и потенциал экономии ресурсов при переработке большого количества астрономических данных, также целесообразно рассмотреть применение F1-меры, особенно если в реальных данных может быть дисбаланс классов, но сейчас нам не нужен такой большой датасет, поэтому будет достаточно обрезать его для равенства классов.\n"
   ]
  },
  {
   "cell_type": "markdown",
   "metadata": {},
   "source": [
    "### Датасет регрессии \"Предсказание роста ребенка\"\n",
    "\n",
    "О датасете:  \n",
    "Этот датасет содержит информацию, необходимую для предсказания роста ребенка на основе данных о его поле и росте родителей. В нем представлены такие параметры, как пол ребенка, рост отца и рост матери. Эти данные позволяют анализировать взаимосвязь между генетическими факторами и ростом ребенка.\n",
    "\n",
    "Актуальность:  \n",
    "Предсказание роста ребенка является актуальной задачей в области педиатрии и генетики. Оценка будущего роста на основании наследственных факторов может быть полезна для врачей и родителей, помогая им следить за развитием ребенка и принимать обоснованные решения в случае необходимости.\n",
    "\n",
    "Метрика:  \n",
    "Для задачи предсказания роста ребенка наилучшей метрикой является среднеквадратичная ошибка (MSE). MSE позволяет количественно оценить, насколько предсказанный рост отклоняется от фактического, подчеркивая значительные отклонения. Такая метрика важна в контексте биологических данных, где каждая единица измерения имеет значение для оценки развития ребенка."
   ]
  },
  {
   "cell_type": "markdown",
   "metadata": {},
   "source": [
    "# Данные"
   ]
  },
  {
   "cell_type": "code",
   "execution_count": 1,
   "metadata": {},
   "outputs": [],
   "source": [
    "import numpy as np\n",
    "import pandas as pd\n",
    "import seaborn as sns\n",
    "import matplotlib.pyplot as plt\n",
    "from sklearn.model_selection import train_test_split\n",
    "from sklearn.base import BaseEstimator, ClassifierMixin, RegressorMixin\n",
    "from scipy.spatial.distance import euclidean, cityblock, chebyshev\n",
    "from sklearn.pipeline import Pipeline\n",
    "from sklearn.metrics import accuracy_score, make_scorer, mean_absolute_error\n",
    "from sklearn.neighbors import KNeighborsClassifier, KNeighborsRegressor\n",
    "from sklearn.model_selection import GridSearchCV\n",
    "from sklearn.compose import ColumnTransformer\n",
    "from sklearn.preprocessing import OneHotEncoder, StandardScaler, LabelBinarizer\n",
    "from sklearn.linear_model import LogisticRegression\n",
    "from sklearn.tree import DecisionTreeRegressor, DecisionTreeClassifier\n",
    "from sklearn.model_selection import RandomizedSearchCV\n",
    "from sklearn.ensemble import RandomForestClassifier, RandomForestRegressor, GradientBoostingClassifier, GradientBoostingRegressor\n",
    "\n"
   ]
  },
  {
   "cell_type": "markdown",
   "metadata": {},
   "source": [
    "### Классификация"
   ]
  },
  {
   "cell_type": "markdown",
   "metadata": {},
   "source": [
    "загружаем датасет"
   ]
  },
  {
   "cell_type": "code",
   "execution_count": 103,
   "metadata": {},
   "outputs": [
    {
     "data": {
      "text/html": [
       "<div>\n",
       "<style scoped>\n",
       "    .dataframe tbody tr th:only-of-type {\n",
       "        vertical-align: middle;\n",
       "    }\n",
       "\n",
       "    .dataframe tbody tr th {\n",
       "        vertical-align: top;\n",
       "    }\n",
       "\n",
       "    .dataframe thead th {\n",
       "        text-align: right;\n",
       "    }\n",
       "</style>\n",
       "<table border=\"1\" class=\"dataframe\">\n",
       "  <thead>\n",
       "    <tr style=\"text-align: right;\">\n",
       "      <th></th>\n",
       "      <th>Mean_Integrated</th>\n",
       "      <th>EK</th>\n",
       "      <th>Skewness</th>\n",
       "      <th>Mean_DMSNR_Curve</th>\n",
       "      <th>SD_DMSNR_Curve</th>\n",
       "      <th>EK_DMSNR_Curve</th>\n",
       "      <th>Skewness_DMSNR_Curve</th>\n",
       "      <th>Class</th>\n",
       "    </tr>\n",
       "  </thead>\n",
       "  <tbody>\n",
       "    <tr>\n",
       "      <th>0</th>\n",
       "      <td>140.562500</td>\n",
       "      <td>1.502969</td>\n",
       "      <td>-0.699648</td>\n",
       "      <td>3.199833</td>\n",
       "      <td>19.110426</td>\n",
       "      <td>7.975532</td>\n",
       "      <td>74.242225</td>\n",
       "      <td>0</td>\n",
       "    </tr>\n",
       "    <tr>\n",
       "      <th>1</th>\n",
       "      <td>102.507812</td>\n",
       "      <td>0.788423</td>\n",
       "      <td>-0.515088</td>\n",
       "      <td>1.677258</td>\n",
       "      <td>14.860146</td>\n",
       "      <td>10.576487</td>\n",
       "      <td>127.393580</td>\n",
       "      <td>0</td>\n",
       "    </tr>\n",
       "    <tr>\n",
       "      <th>2</th>\n",
       "      <td>103.015625</td>\n",
       "      <td>0.323558</td>\n",
       "      <td>1.051164</td>\n",
       "      <td>3.121237</td>\n",
       "      <td>21.744669</td>\n",
       "      <td>7.735822</td>\n",
       "      <td>63.171909</td>\n",
       "      <td>0</td>\n",
       "    </tr>\n",
       "    <tr>\n",
       "      <th>3</th>\n",
       "      <td>136.750000</td>\n",
       "      <td>0.958983</td>\n",
       "      <td>-0.636238</td>\n",
       "      <td>3.642977</td>\n",
       "      <td>20.959280</td>\n",
       "      <td>6.896499</td>\n",
       "      <td>53.593661</td>\n",
       "      <td>0</td>\n",
       "    </tr>\n",
       "    <tr>\n",
       "      <th>4</th>\n",
       "      <td>88.726562</td>\n",
       "      <td>1.232198</td>\n",
       "      <td>1.123492</td>\n",
       "      <td>1.178930</td>\n",
       "      <td>11.468720</td>\n",
       "      <td>14.269573</td>\n",
       "      <td>252.567306</td>\n",
       "      <td>0</td>\n",
       "    </tr>\n",
       "  </tbody>\n",
       "</table>\n",
       "</div>"
      ],
      "text/plain": [
       "   Mean_Integrated        EK  Skewness  Mean_DMSNR_Curve  SD_DMSNR_Curve  \\\n",
       "0       140.562500  1.502969 -0.699648          3.199833       19.110426   \n",
       "1       102.507812  0.788423 -0.515088          1.677258       14.860146   \n",
       "2       103.015625  0.323558  1.051164          3.121237       21.744669   \n",
       "3       136.750000  0.958983 -0.636238          3.642977       20.959280   \n",
       "4        88.726562  1.232198  1.123492          1.178930       11.468720   \n",
       "\n",
       "   EK_DMSNR_Curve  Skewness_DMSNR_Curve  Class  \n",
       "0        7.975532             74.242225      0  \n",
       "1       10.576487            127.393580      0  \n",
       "2        7.735822             63.171909      0  \n",
       "3        6.896499             53.593661      0  \n",
       "4       14.269573            252.567306      0  "
      ]
     },
     "execution_count": 103,
     "metadata": {},
     "output_type": "execute_result"
    }
   ],
   "source": [
    "pulsars = pd.read_csv(\"./pulsars.csv\")\n",
    "pulsars.head()"
   ]
  },
  {
   "cell_type": "markdown",
   "metadata": {},
   "source": [
    "смотрим на распределение целевого столбца"
   ]
  },
  {
   "cell_type": "code",
   "execution_count": 105,
   "metadata": {},
   "outputs": [
    {
     "name": "stdout",
     "output_type": "stream",
     "text": [
      "Axes(0.125,0.11;0.775x0.77)\n"
     ]
    },
    {
     "data": {
      "image/png": "[encoded data removed]",
      "text/plain": [
       "<Figure size 640x480 with 1 Axes>"
      ]
     },
     "metadata": {},
     "output_type": "display_data"
    }
   ],
   "source": [
    "print(pulsars.Class.hist())"
   ]
  },
  {
   "cell_type": "code",
   "execution_count": 108,
   "metadata": {},
   "outputs": [
    {
     "name": "stdout",
     "output_type": "stream",
     "text": [
      "Class\n",
      "0    308\n",
      "1    308\n",
      "Name: count, dtype: int64\n"
     ]
    }
   ],
   "source": [
    "class_0 = pulsars[pulsars['Class'] == 0]\n",
    "class_1 = pulsars[pulsars['Class'] == 1]\n",
    "\n",
    "class_0_balanced = class_0.sample(n=len(class_1), random_state=42)\n",
    "\n",
    "balanced_pulsars = pd.concat([class_0_balanced, class_1])\n",
    "\n",
    "balanced_pulsars = balanced_pulsars.sample(frac=1, random_state=42).reset_index(drop=True)\n",
    "\n",
    "print(balanced_pulsars['Class'].value_counts())\n",
    "pulsars = balanced_pulsars"
   ]
  },
  {
   "cell_type": "markdown",
   "metadata": {},
   "source": [
    "проверяем пустые значения"
   ]
  },
  {
   "cell_type": "code",
   "execution_count": 109,
   "metadata": {},
   "outputs": [
    {
     "data": {
      "text/plain": [
       "Mean_Integrated         0\n",
       "EK                      0\n",
       "Skewness                0\n",
       "Mean_DMSNR_Curve        0\n",
       "SD_DMSNR_Curve          0\n",
       "EK_DMSNR_Curve          0\n",
       "Skewness_DMSNR_Curve    0\n",
       "Class                   0\n",
       "dtype: int64"
      ]
     },
     "execution_count": 109,
     "metadata": {},
     "output_type": "execute_result"
    }
   ],
   "source": [
    "pulsars.isna().sum()"
   ]
  },
  {
   "cell_type": "markdown",
   "metadata": {},
   "source": [
    "создадим корреляционную матрицу для датасета"
   ]
  },
  {
   "cell_type": "code",
   "execution_count": 111,
   "metadata": {},
   "outputs": [
    {
     "data": {
      "image/png": "[encoded data removed]",
      "text/plain": [
       "<Figure size 640x480 with 2 Axes>"
      ]
     },
     "metadata": {},
     "output_type": "display_data"
    }
   ],
   "source": [
    "correlation_matrix = pulsars.corr()\n",
    "sns.heatmap(correlation_matrix, annot=True, cmap='coolwarm')\n",
    "plt.title('Корреляционная матрица')\n",
    "plt.show()"
   ]
  },
  {
   "cell_type": "markdown",
   "metadata": {},
   "source": [
    "На основе построенной корреляционной матрицы можно сделать следующие выводы:\n",
    "\n",
    "1. Mean_Integrated: Имеет умеренно отрицательную корреляцию с классом (-0.52), что предполагает, что более высокие значения этого параметра чаще связаны с одним из классов.\n",
    "\n",
    "2. EK и Skewness: Исходя из значений корреляции с классом (0.51 и 0.46 соответственно), видно, что они умеренно положительно коррелируют с ним, что может означать, что более высокие значения этих параметров связаны с другим классом.\n",
    "\n",
    "3. Взаимосвязь характеристик DMSNR_Curve:\n",
    "   - SD_DMSNR_Curve и Mean_DMSNR_Curve имеют самую сильную взаимную корреляцию (0.91), что может указывать на многоколлинеарность. Это стоит учесть при построении модели.\n",
    "   - EK_DMSNR_Curve и Skewness_DMSNR_Curve также очень сильно коррелируют (0.96).\n",
    "\n"
   ]
  },
  {
   "cell_type": "markdown",
   "metadata": {},
   "source": [
    "разбиваем датасет на выборки"
   ]
  },
  {
   "cell_type": "code",
   "execution_count": 113,
   "metadata": {},
   "outputs": [
    {
     "name": "stdout",
     "output_type": "stream",
     "text": [
      "Размер обучающей выборки: (492, 7)\n",
      "Размер тестовой выборки: (124, 7)\n"
     ]
    }
   ],
   "source": [
    "pulsars_x = pulsars.drop('Class', axis=1)\n",
    "pulsars_y = pulsars['Class']\n",
    "\n",
    "pulsars_X_train, pulsars_X_test, pulsars_y_train, pulsars_y_test = train_test_split(pulsars_x, pulsars_y, test_size=0.2, random_state=228)\n",
    "\n",
    "print(f\"Размер обучающей выборки: {pulsars_X_train.shape}\")\n",
    "print(f\"Размер тестовой выборки: {pulsars_X_test.shape}\")"
   ]
  },
  {
   "cell_type": "markdown",
   "metadata": {},
   "source": [
    "### Регрессия"
   ]
  },
  {
   "cell_type": "markdown",
   "metadata": {},
   "source": [
    "загружаем датасет"
   ]
  },
  {
   "cell_type": "code",
   "execution_count": 9,
   "metadata": {},
   "outputs": [],
   "source": [
    "heihgts = pd.read_csv('./heights.csv')"
   ]
  },
  {
   "cell_type": "markdown",
   "metadata": {},
   "source": [
    "смотрим на данные в нём"
   ]
  },
  {
   "cell_type": "code",
   "execution_count": 10,
   "metadata": {},
   "outputs": [
    {
     "data": {
      "text/html": [
       "<div>\n",
       "<style scoped>\n",
       "    .dataframe tbody tr th:only-of-type {\n",
       "        vertical-align: middle;\n",
       "    }\n",
       "\n",
       "    .dataframe tbody tr th {\n",
       "        vertical-align: top;\n",
       "    }\n",
       "\n",
       "    .dataframe thead th {\n",
       "        text-align: right;\n",
       "    }\n",
       "</style>\n",
       "<table border=\"1\" class=\"dataframe\">\n",
       "  <thead>\n",
       "    <tr style=\"text-align: right;\">\n",
       "      <th></th>\n",
       "      <th>Father_height</th>\n",
       "      <th>Mother_height</th>\n",
       "      <th>Child_height</th>\n",
       "      <th>gender</th>\n",
       "    </tr>\n",
       "  </thead>\n",
       "  <tbody>\n",
       "    <tr>\n",
       "      <th>0</th>\n",
       "      <td>78.5</td>\n",
       "      <td>67.0</td>\n",
       "      <td>73.2</td>\n",
       "      <td>1</td>\n",
       "    </tr>\n",
       "    <tr>\n",
       "      <th>1</th>\n",
       "      <td>78.5</td>\n",
       "      <td>67.0</td>\n",
       "      <td>69.2</td>\n",
       "      <td>0</td>\n",
       "    </tr>\n",
       "    <tr>\n",
       "      <th>2</th>\n",
       "      <td>78.5</td>\n",
       "      <td>67.0</td>\n",
       "      <td>69.0</td>\n",
       "      <td>0</td>\n",
       "    </tr>\n",
       "    <tr>\n",
       "      <th>3</th>\n",
       "      <td>78.5</td>\n",
       "      <td>67.0</td>\n",
       "      <td>69.0</td>\n",
       "      <td>0</td>\n",
       "    </tr>\n",
       "    <tr>\n",
       "      <th>4</th>\n",
       "      <td>75.5</td>\n",
       "      <td>66.5</td>\n",
       "      <td>73.5</td>\n",
       "      <td>1</td>\n",
       "    </tr>\n",
       "  </tbody>\n",
       "</table>\n",
       "</div>"
      ],
      "text/plain": [
       "   Father_height  Mother_height  Child_height  gender\n",
       "0           78.5           67.0          73.2       1\n",
       "1           78.5           67.0          69.2       0\n",
       "2           78.5           67.0          69.0       0\n",
       "3           78.5           67.0          69.0       0\n",
       "4           75.5           66.5          73.5       1"
      ]
     },
     "execution_count": 10,
     "metadata": {},
     "output_type": "execute_result"
    }
   ],
   "source": [
    "heihgts.head()"
   ]
  },
  {
   "cell_type": "markdown",
   "metadata": {},
   "source": [
    "проверяем пустые значения"
   ]
  },
  {
   "cell_type": "code",
   "execution_count": 11,
   "metadata": {},
   "outputs": [
    {
     "data": {
      "text/plain": [
       "Father_height    0\n",
       "Mother_height    0\n",
       "Child_height     0\n",
       "gender           0\n",
       "dtype: int64"
      ]
     },
     "execution_count": 11,
     "metadata": {},
     "output_type": "execute_result"
    }
   ],
   "source": [
    "heihgts.isna().sum()"
   ]
  },
  {
   "cell_type": "markdown",
   "metadata": {},
   "source": [
    "создадим корреляционную матрицу для датасета"
   ]
  },
  {
   "cell_type": "code",
   "execution_count": 7,
   "metadata": {},
   "outputs": [
    {
     "data": {
      "image/png": "[encoded data removed]",
      "text/plain": [
       "<Figure size 1200x1000 with 2 Axes>"
      ]
     },
     "metadata": {},
     "output_type": "display_data"
    }
   ],
   "source": [
    "corr_matrix = heihgts.corr()\n",
    "plt.figure(figsize=(12, 10))\n",
    "sns.heatmap(corr_matrix, annot=True, cmap='coolwarm', fmt=\".2f\")\n",
    "plt.title('Correlation Matrix')\n",
    "plt.show()\n"
   ]
  },
  {
   "cell_type": "markdown",
   "metadata": {},
   "source": [
    "На основе корреляционной матрицы можно сделать следующие выводы:\n",
    "\n",
    "Эта корректная корреляционная матрица отображает взаимосвязи между переменными: рост отца, рост матери, рост ребенка и пол ребенка.\n",
    "\n",
    "1. Рост отца и рост ребенка (0.27): Умеренная положительная корреляция, что предполагает слабую зависимость между этими двумя параметрами.\n",
    "\n",
    "2. Рост матери и рост ребенка (0.20): Похожая умеренная положительная корреляция, как и у отца, указывает на слабое влияние роста матери на рост ребенка.\n",
    "\n",
    "3. Пол ребенка и рост ребенка (0.72): Сильная положительная корреляция, что может указывать на значительное влияние пола на рост.\n",
    "\n",
    "4. Другие корреляции: Все остальные значения близки к нулю, что говорит об отсутствии значимой линейной зависимости.\n",
    "\n",
    "Эти наблюдения помогут сосредоточиться на значимых факторах при построении модели регрессии для прогнозирования расходов на здоровье."
   ]
  },
  {
   "cell_type": "markdown",
   "metadata": {},
   "source": [
    "разбиваем датасет на выборки"
   ]
  },
  {
   "cell_type": "code",
   "execution_count": 12,
   "metadata": {},
   "outputs": [
    {
     "name": "stdout",
     "output_type": "stream",
     "text": [
      "Размер обучающей выборки: (747, 3)\n",
      "Размер тестовой выборки: (187, 3)\n"
     ]
    }
   ],
   "source": [
    "heihgts_X = heihgts.drop('Child_height', axis=1)\n",
    "heihgts_y = heihgts['Child_height']\n",
    "\n",
    "heihgts_X_train, heihgts_X_test, heihgts_y_train, heihgts_y_test = train_test_split(heihgts_X, heihgts_y, test_size=0.2, random_state=42)\n",
    "\n",
    "print(f\"Размер обучающей выборки: {heihgts_X_train.shape}\")\n",
    "print(f\"Размер тестовой выборки: {heihgts_X_test.shape}\")"
   ]
  },
  {
   "cell_type": "markdown",
   "metadata": {},
   "source": [
    "# Работа 1 (KNN)"
   ]
  },
  {
   "cell_type": "markdown",
   "metadata": {},
   "source": [
    "## Классификация"
   ]
  },
  {
   "cell_type": "markdown",
   "metadata": {},
   "source": [
    "### Бейзлайн классификации"
   ]
  },
  {
   "cell_type": "code",
   "execution_count": 121,
   "metadata": {},
   "outputs": [
    {
     "name": "stdout",
     "output_type": "stream",
     "text": [
      "KNN Baseline Accuracy: 0.7580645161290323\n"
     ]
    }
   ],
   "source": [
    "pipeline = Pipeline(steps=[\n",
    "    ('scaler', StandardScaler()),\n",
    "    ('classifier', KNeighborsClassifier(n_neighbors=20))\n",
    "])\n",
    "\n",
    "\n",
    "pipeline.fit(pulsars_X_train, pulsars_y_train)\n",
    "pulsars_y_pred = pipeline.predict(pulsars_X_test)\n",
    "\n",
    "print(f\"KNN Baseline Accuracy: {accuracy_score(pulsars_y_test, pulsars_y_pred)}\")"
   ]
  },
  {
   "cell_type": "markdown",
   "metadata": {},
   "source": [
    "#### Подбор параметров"
   ]
  },
  {
   "cell_type": "markdown",
   "metadata": {},
   "source": [
    "запустим GridSearchCV для перебора гиперпараметров"
   ]
  },
  {
   "cell_type": "code",
   "execution_count": 122,
   "metadata": {},
   "outputs": [
    {
     "name": "stdout",
     "output_type": "stream",
     "text": [
      "Лучшие параметры: {'classifier__n_neighbors': 6}\n",
      "Лучшая точность на кросс-валидации: 0.7846217274788704\n",
      "Точность на тестовом наборе: 0.7338709677419355\n"
     ]
    }
   ],
   "source": [
    "param_grid = {\n",
    "    'classifier__n_neighbors': range(2, 8),\n",
    "}\n",
    "\n",
    "grid_search = GridSearchCV(pipeline, param_grid, cv=5, scoring=make_scorer(accuracy_score))\n",
    "grid_search.fit(pulsars_X_train, pulsars_y_train)\n",
    "\n",
    "best_params = grid_search.best_params_\n",
    "best_score = grid_search.best_score_\n",
    "\n",
    "print(f\"Лучшие параметры: {best_params}\")\n",
    "print(f\"Лучшая точность на кросс-валидации: {best_score}\")\n",
    "\n",
    "pulsars_y_pred = grid_search.predict(pulsars_X_test)\n",
    "test_accuracy = accuracy_score(pulsars_y_test, pulsars_y_pred)\n",
    "print(f\"Точность на тестовом наборе: {test_accuracy}\")"
   ]
  },
  {
   "cell_type": "markdown",
   "metadata": {},
   "source": [
    "### Собственная имплементация"
   ]
  },
  {
   "cell_type": "code",
   "execution_count": 123,
   "metadata": {},
   "outputs": [],
   "source": [
    "class KNNBase(BaseEstimator):\n",
    "    def __init__(self, n_neighbors=5, metric='euclidean'):\n",
    "        self.n_neighbors = n_neighbors\n",
    "        self.metric = metric\n",
    "\n",
    "    def fit(self, X, y):\n",
    "        self.X_train = np.array(X)\n",
    "        self.y_train = np.array(y)\n",
    "        self.classes_ = np.unique(y)\n",
    "        return self\n",
    "\n",
    "    def _get_distance(self, a, b):\n",
    "        if self.metric == 'euclidean':\n",
    "            return euclidean(a, b)\n",
    "        elif self.metric == 'manhattan':\n",
    "            return cityblock(a, b)\n",
    "        elif self.metric == 'chebyshev':\n",
    "            return chebyshev(a, b)\n",
    "        else:\n",
    "            raise ValueError(f\"Неизвестная метрика: {self.metric}\")\n",
    "\n",
    "    def _get_neighbors(self, x):\n",
    "        distances = np.array([self._get_distance(x, xi) for xi in self.X_train])\n",
    "        return np.argsort(distances)[:self.n_neighbors]\n"
   ]
  },
  {
   "cell_type": "code",
   "execution_count": 117,
   "metadata": {},
   "outputs": [],
   "source": [
    "class KNNClassifier(KNNBase, ClassifierMixin):\n",
    "    def __init__(self, n_neighbors=5, metric='euclidean'):\n",
    "        super().__init__(n_neighbors=n_neighbors, metric=metric)\n",
    "\n",
    "    def predict(self, X):\n",
    "        X_test = np.array(X)\n",
    "        predictions = []\n",
    "\n",
    "        for x in X_test:\n",
    "            nearest_indices = self._get_neighbors(x)\n",
    "            nearest_values = self.y_train[nearest_indices]\n",
    "            predictions.append(np.bincount(nearest_values).argmax())\n",
    "\n",
    "        return np.array(predictions)"
   ]
  },
  {
   "cell_type": "markdown",
   "metadata": {},
   "source": [
    "#### Бейзлайн классификации"
   ]
  },
  {
   "cell_type": "code",
   "execution_count": 124,
   "metadata": {},
   "outputs": [
    {
     "name": "stdout",
     "output_type": "stream",
     "text": [
      "     Mean_Integrated        EK  Skewness  Mean_DMSNR_Curve  SD_DMSNR_Curve  \\\n",
      "186       101.953125  0.791457  0.006462          7.671405       38.431365   \n",
      "552       121.859375  0.073414 -0.249216          5.219900       27.884544   \n",
      "211       118.132812  0.297014 -0.450082          1.423913       13.557510   \n",
      "276       119.164062  0.118004  0.186684          2.877926       23.763505   \n",
      "241       118.164062  0.851472 -0.443982         15.603679       48.412094   \n",
      "\n",
      "     EK_DMSNR_Curve  Skewness_DMSNR_Curve  \n",
      "186        5.150862             25.577309  \n",
      "552        6.154451             40.295990  \n",
      "211       11.854845            162.559510  \n",
      "276        8.398196             70.439688  \n",
      "241        3.065685              8.223163  \n"
     ]
    }
   ],
   "source": [
    "print(pulsars_X_test[:5])"
   ]
  },
  {
   "cell_type": "code",
   "execution_count": 119,
   "metadata": {},
   "outputs": [
    {
     "name": "stdout",
     "output_type": "stream",
     "text": [
      "Custom KNN Baseline Accuracy: 0.7419354838709677\n"
     ]
    }
   ],
   "source": [
    "# Создание пайплайна\n",
    "pipeline = Pipeline(steps=[\n",
    "    ('scaler', StandardScaler()),\n",
    "    ('classifier', KNNClassifier(n_neighbors=4))\n",
    "])\n",
    "\n",
    "pipeline.fit(pulsars_X_train, pulsars_y_train)\n",
    "pulsars_y_pred = pipeline.predict(pulsars_X_test)\n",
    "\n",
    "print(f\"Custom KNN Baseline Accuracy: {accuracy_score(pulsars_y_test, pulsars_y_pred)}\")"
   ]
  },
  {
   "cell_type": "markdown",
   "metadata": {},
   "source": [
    "#### Подбор параметров"
   ]
  },
  {
   "cell_type": "markdown",
   "metadata": {},
   "source": [
    "запустим GridSearchCV для перебора гиперпараметров"
   ]
  },
  {
   "cell_type": "code",
   "execution_count": 125,
   "metadata": {},
   "outputs": [
    {
     "name": "stdout",
     "output_type": "stream",
     "text": [
      "Лучшие параметры: {'classifier__metric': 'chebyshev', 'classifier__n_neighbors': 6}\n",
      "Лучшая точность на кросс-валидации: 0.7967841682127397\n",
      "Точность на тестовом наборе: 0.7661290322580645\n"
     ]
    }
   ],
   "source": [
    "param_grid = {\n",
    "    'classifier__n_neighbors': range(2, 8),\n",
    "    'classifier__metric': ['euclidean', 'manhattan', 'chebyshev']\n",
    "}\n",
    "\n",
    "grid_search = GridSearchCV(pipeline, param_grid, cv=5, scoring=make_scorer(accuracy_score))\n",
    "grid_search.fit(pulsars_X_train, pulsars_y_train)\n",
    "\n",
    "best_params = grid_search.best_params_\n",
    "best_score = grid_search.best_score_\n",
    "\n",
    "print(f\"Лучшие параметры: {best_params}\")\n",
    "print(f\"Лучшая точность на кросс-валидации: {best_score}\")\n",
    "\n",
    "pulsars_y_pred = grid_search.predict(pulsars_X_test)\n",
    "test_accuracy = accuracy_score(pulsars_y_test, pulsars_y_pred)\n",
    "print(f\"Точность на тестовом наборе: {test_accuracy}\")"
   ]
  },
  {
   "cell_type": "markdown",
   "metadata": {},
   "source": [
    "## Регрессия"
   ]
  },
  {
   "cell_type": "markdown",
   "metadata": {},
   "source": [
    "### Бейзлайн регрессии"
   ]
  },
  {
   "cell_type": "code",
   "execution_count": 30,
   "metadata": {},
   "outputs": [
    {
     "name": "stdout",
     "output_type": "stream",
     "text": [
      "Sklearn KNN Baseline MAE metric is: 1.874331550802139\n"
     ]
    }
   ],
   "source": [
    "numerical_features = [\"Father_height\",\"Mother_height\",\"gender\"]\n",
    "\n",
    "numerical_transformer = StandardScaler()\n",
    "\n",
    "preprocessor = ColumnTransformer(\n",
    "    transformers=[\n",
    "        ('num', numerical_transformer, numerical_features)\n",
    "    ]\n",
    ")\n",
    "\n",
    "\n",
    "pipeline = Pipeline(steps=[\n",
    "    ('preprocessor', preprocessor),\n",
    "    ('regressor', KNeighborsRegressor(n_neighbors=3))\n",
    "])\n",
    "\n",
    "\n",
    "pipeline.fit(heihgts_X_train, heihgts_y_train)\n",
    "y_pred = pipeline.predict(heihgts_X_test)\n",
    "print(f\"Sklearn KNN Baseline MAE metric is: {mean_absolute_error(heihgts_y_test, y_pred)}\")"
   ]
  },
  {
   "cell_type": "markdown",
   "metadata": {},
   "source": [
    "#### Подбор параметров"
   ]
  },
  {
   "cell_type": "markdown",
   "metadata": {},
   "source": [
    "будем перебирать число соседей в KNN а также модифицируем пайплайн - будем предобрабатывать численные данные путём нормирования, так как для подсчёта расстояния это будет важно в алгоритме."
   ]
  },
  {
   "cell_type": "code",
   "execution_count": 31,
   "metadata": {},
   "outputs": [
    {
     "name": "stdout",
     "output_type": "stream",
     "text": [
      "Лучшие параметры: {'regressor__n_neighbors': 6}\n",
      "Лучшая MAE: 1.7884791946308725\n",
      "Оптимизированная MAE на тестовом наборе: 1.689483065953654\n"
     ]
    }
   ],
   "source": [
    "param_grid = {\n",
    "    'regressor__n_neighbors': range(2, 11)\n",
    "}\n",
    "\n",
    "preprocessor = ColumnTransformer(\n",
    "    transformers=[\n",
    "        ('num', numerical_transformer, numerical_features),\n",
    "    ]\n",
    ")\n",
    "pipeline = Pipeline(steps=[\n",
    "    ('preprocessor', preprocessor),\n",
    "    ('regressor', KNeighborsRegressor(n_neighbors=3))\n",
    "])\n",
    "\n",
    "grid_search = GridSearchCV(pipeline, param_grid, cv=5, scoring='neg_mean_absolute_error')\n",
    "grid_search.fit(heihgts_X_train, heihgts_y_train)\n",
    "\n",
    "best_params = grid_search.best_params_\n",
    "best_score = -grid_search.best_score_\n",
    "\n",
    "print(f\"Лучшие параметры: {best_params}\")\n",
    "print(f\"Лучшая MAE: {best_score}\")\n",
    "\n",
    "y_pred = grid_search.predict(heihgts_X_test)\n",
    "mae_optimized = mean_absolute_error(heihgts_y_test, y_pred)\n",
    "print(f\"Оптимизированная MAE на тестовом наборе: {mae_optimized}\")"
   ]
  },
  {
   "cell_type": "markdown",
   "metadata": {},
   "source": [
    "Нормализация численных признаков с помощью StandardScaler также важна, особенно для алгоритмов, основанных на расстоянии, как KNN. Масштабирование данных приводит их к единому стандарту, снижая влияние признаков с большим разбросом и тем самым улучшая точность модели. \n",
    "\n",
    "В результате, благодаря оптимальному выбору гиперпараметров и предварительной обработке данных, модель даёт более точные прогнозы.\n"
   ]
  },
  {
   "cell_type": "markdown",
   "metadata": {},
   "source": [
    "### Собственная имплементация"
   ]
  },
  {
   "cell_type": "code",
   "execution_count": 32,
   "metadata": {},
   "outputs": [],
   "source": [
    "class KNNRegressor(KNNBase, RegressorMixin):\n",
    "    def __init__(self, n_neighbors=5, metric='euclidean'):\n",
    "        super().__init__(n_neighbors=n_neighbors, metric=metric)\n",
    "\n",
    "    def predict(self, X):\n",
    "        X_test = np.array(X)\n",
    "        predictions = []\n",
    "\n",
    "        for x in X_test:\n",
    "            nearest_indices = self._get_neighbors(x)\n",
    "            nearest_values = self.y_train[nearest_indices]\n",
    "            predictions.append(np.mean(nearest_values))\n",
    "\n",
    "        return np.array(predictions)"
   ]
  },
  {
   "cell_type": "code",
   "execution_count": 33,
   "metadata": {},
   "outputs": [
    {
     "name": "stdout",
     "output_type": "stream",
     "text": [
      "Sklearn KNN Baseline MAE metric is: 1.834046345811052\n"
     ]
    }
   ],
   "source": [
    "pipeline = Pipeline(steps=[\n",
    "    ('regressor', KNNRegressor(n_neighbors=3))\n",
    "])\n",
    "\n",
    "\n",
    "pipeline.fit(heihgts_X_train, heihgts_y_train)\n",
    "y_pred = pipeline.predict(heihgts_X_test)\n",
    "print(f\"Sklearn KNN Baseline MAE metric is: {mean_absolute_error(heihgts_y_test, y_pred)}\")"
   ]
  },
  {
   "cell_type": "markdown",
   "metadata": {},
   "source": [
    "#### Подбор параметров"
   ]
  },
  {
   "cell_type": "code",
   "execution_count": 34,
   "metadata": {},
   "outputs": [
    {
     "name": "stdout",
     "output_type": "stream",
     "text": [
      "Лучшие параметры: {'regressor__metric': 'manhattan', 'regressor__n_neighbors': 10}\n",
      "Лучшая MAE: 1.7758720357941837\n",
      "Оптимизированная MAE на тестовом наборе: 1.6995187165775405\n"
     ]
    }
   ],
   "source": [
    "param_grid = {\n",
    "    'regressor__n_neighbors': range(2, 11),\n",
    "    'regressor__metric': ['euclidean', 'manhattan', 'chebyshev']\n",
    "}\n",
    "\n",
    "preprocessor = ColumnTransformer(\n",
    "    transformers=[\n",
    "        ('num', numerical_transformer, numerical_features),\n",
    "    ]\n",
    ")\n",
    "pipeline = Pipeline(steps=[\n",
    "    ('preprocessor', preprocessor),\n",
    "    ('regressor', KNNRegressor(n_neighbors=3))\n",
    "])\n",
    "\n",
    "grid_search = GridSearchCV(pipeline, param_grid, cv=5, scoring='neg_mean_absolute_error')\n",
    "grid_search.fit(heihgts_X_train, heihgts_y_train)\n",
    "\n",
    "best_params = grid_search.best_params_\n",
    "best_score = -grid_search.best_score_\n",
    "\n",
    "print(f\"Лучшие параметры: {best_params}\")\n",
    "print(f\"Лучшая MAE: {best_score}\")\n",
    "\n",
    "y_pred = grid_search.predict(heihgts_X_test)\n",
    "mae_optimized = mean_absolute_error(heihgts_y_test, y_pred)\n",
    "print(f\"Оптимизированная MAE на тестовом наборе: {mae_optimized}\")"
   ]
  },
  {
   "cell_type": "markdown",
   "metadata": {},
   "source": [
    "### Выводы"
   ]
  },
  {
   "cell_type": "markdown",
   "metadata": {},
   "source": [
    "В случае использования готового классификатора из библиотеки и в случае с собственной реализацией алгоритма, удалось достичь сопоставимых уровней точности. Это говорит о том, что реализация справляется с задачей на уровне, сравнимом со стандартными библиотечными решениями. Собственная реализация предлагает использование метрики 'manhattan', что оказало положительное влияние на результаты. Так же важно и нормировать исходные данные для получание более точных прогнозов модели.\n"
   ]
  },
  {
   "cell_type": "markdown",
   "metadata": {},
   "source": [
    "# Работа 2 (Linear Models)"
   ]
  },
  {
   "cell_type": "code",
   "execution_count": 61,
   "metadata": {},
   "outputs": [],
   "source": [
    "def add_height_features(df):\n",
    "    df['average_parent_height'] = (df['Father_height'] + df['Mother_height']) / 2\n",
    "    df['parent_height_diff'] = abs(df['Father_height'] - df['Mother_height'])\n",
    "    return df"
   ]
  },
  {
   "cell_type": "code",
   "execution_count": 126,
   "metadata": {},
   "outputs": [],
   "source": [
    "def modify_pulsar_features(df):\n",
    "    # Удаление одной из сильно коррелированных фичей. Например, SD_DMSNR_Curve\n",
    "    df = df.drop(columns=['SD_DMSNR_Curve'])\n",
    "\n",
    "    # Создание полиномиальных признаков\n",
    "    df['Mean_Skewness_Product'] = df['Mean_Integrated'] * df['Skewness']\n",
    "    df['EK_Skewness_Product'] = df['EK'] * df['Skewness']\n",
    "    df['Mean_EK_Diff'] = abs(df['Mean_Integrated'] - df['EK'])\n",
    "    df['DMSNR_Interaction'] = df['Mean_DMSNR_Curve'] * df['EK_DMSNR_Curve']\n",
    "    return df\n"
   ]
  },
  {
   "cell_type": "markdown",
   "metadata": {},
   "source": [
    "## Классификация"
   ]
  },
  {
   "cell_type": "markdown",
   "metadata": {},
   "source": [
    "### Бейзлайн классификации"
   ]
  },
  {
   "cell_type": "code",
   "execution_count": 127,
   "metadata": {},
   "outputs": [
    {
     "name": "stdout",
     "output_type": "stream",
     "text": [
      "Sklearn Linear Logistic accuracy_score metric is: 0.7661290322580645\n"
     ]
    }
   ],
   "source": [
    "pipeline = Pipeline(steps=[\n",
    "    ('scaler', StandardScaler()),\n",
    "    ('classifier', LogisticRegression())\n",
    "])\n",
    "\n",
    "pipeline.fit(pulsars_X_train, pulsars_y_train)\n",
    "pulsars_y_pred = pipeline.predict(pulsars_X_test)\n",
    "\n",
    "print(f\"Sklearn Linear Logistic accuracy_score metric is: {accuracy_score(pulsars_y_test, pulsars_y_pred)}\")"
   ]
  },
  {
   "cell_type": "markdown",
   "metadata": {},
   "source": [
    "### Собственная имплементация"
   ]
  },
  {
   "cell_type": "code",
   "execution_count": 131,
   "metadata": {},
   "outputs": [],
   "source": [
    "class MyLogisticRegression(BaseEstimator, ClassifierMixin):\n",
    "    def __init__(self, max_iter=5e3, lr=0.04, tol=0.001, l1_coef=0.1):\n",
    "        self.max_iter = max_iter\n",
    "        self.lr = lr\n",
    "        self.tol = tol\n",
    "        self.l1_coef = l1_coef\n",
    "        self.weights = None\n",
    "        self.bias = None\n",
    "\n",
    "    def fit(self, X_train, y_train):\n",
    "        n, m = X_train.shape\n",
    "        y_train = y_train.to_numpy().reshape(-1, 1)\n",
    "\n",
    "\n",
    "        self.weights = np.zeros((m, 1))\n",
    "        self.bias = np.mean(y_train)\n",
    "\n",
    "        n_iter = 0\n",
    "        gradient_norm = np.inf\n",
    "\n",
    "        while n_iter < self.max_iter and gradient_norm > self.tol:\n",
    "\n",
    "            dJdw, dJdb = self.grads(X_train, y_train)\n",
    "\n",
    "            gradient_norm = np.linalg.norm(np.hstack([dJdw.flatten(), [dJdb]]))\n",
    "\n",
    "            self.weights = self.weights - self.lr * dJdw\n",
    "            self.bias = self.bias - self.lr * dJdb\n",
    "\n",
    "            n_iter += 1\n",
    "\n",
    "        return self\n",
    "\n",
    "    def predict(self, X):\n",
    "        return list(map(lambda x: int(x[0] > 0.5), self.predict_proba(X)))\n",
    "\n",
    "\n",
    "    def predict_proba(self, X):\n",
    "        return self.sigmoid(np.dot(X, self.weights) + self.bias)\n",
    "\n",
    "    def grads(self, X, y):\n",
    "        y_hat = self.predict_proba(X)\n",
    "\n",
    "        dJdw = np.mean(X * (y_hat - y) + self.l1_coef * np.sign(self.weights.T), axis=0, keepdims=True).T\n",
    "        dJdb = np.mean(y_hat - y)\n",
    "\n",
    "        return dJdw, dJdb\n",
    "\n",
    "    @staticmethod\n",
    "    def sigmoid(x):\n",
    "        return 1 / (1 + np.exp(-x))\n",
    "\n"
   ]
  },
  {
   "cell_type": "code",
   "execution_count": 132,
   "metadata": {},
   "outputs": [
    {
     "name": "stdout",
     "output_type": "stream",
     "text": [
      "Sklearn Linear Logistic accuracy_score metric is: 0.7580645161290323\n"
     ]
    }
   ],
   "source": [
    "pipeline = Pipeline(steps=[\n",
    "    ('scaler', StandardScaler()),\n",
    "    ('classifier', MyLogisticRegression())\n",
    "])\n",
    "\n",
    "pipeline.fit(pulsars_X_train, pulsars_y_train)\n",
    "pulsars_y_pred = pipeline.predict(pulsars_X_test)\n",
    "\n",
    "print(f\"Sklearn Linear Logistic accuracy_score metric is: {accuracy_score(pulsars_y_test, pulsars_y_pred)}\")\n"
   ]
  },
  {
   "cell_type": "markdown",
   "metadata": {},
   "source": [
    "#### Улучшение"
   ]
  },
  {
   "cell_type": "code",
   "execution_count": 133,
   "metadata": {},
   "outputs": [
    {
     "name": "stdout",
     "output_type": "stream",
     "text": [
      "Sklearn Linear Logistic accuracy_score metric is: 0.75\n"
     ]
    }
   ],
   "source": [
    "new_pulsars_X_train = modify_pulsar_features(pulsars_X_train.copy())\n",
    "new_pulsars_X_test = modify_pulsar_features(pulsars_X_test.copy())\n",
    "\n",
    "pipeline = Pipeline(steps=[\n",
    "    ('scaler', StandardScaler()),\n",
    "    ('classifier', MyLogisticRegression())\n",
    "])\n",
    "\n",
    "pipeline.fit(new_pulsars_X_train, pulsars_y_train)\n",
    "pulsars_y_pred = pipeline.predict(new_pulsars_X_test)\n",
    "\n",
    "print(f\"Sklearn Linear Logistic accuracy_score metric is: {accuracy_score(pulsars_y_test, pulsars_y_pred)}\")\n"
   ]
  },
  {
   "cell_type": "markdown",
   "metadata": {},
   "source": [
    "## Регрессия"
   ]
  },
  {
   "cell_type": "markdown",
   "metadata": {},
   "source": [
    "### Бейзлайн регрессии"
   ]
  },
  {
   "cell_type": "code",
   "execution_count": 134,
   "metadata": {},
   "outputs": [
    {
     "name": "stdout",
     "output_type": "stream",
     "text": [
      "Sklearn Linear baseline MAE metric is: 1.6874244143111958\n"
     ]
    }
   ],
   "source": [
    "from sklearn.linear_model import LinearRegression\n",
    "\n",
    "\n",
    "numerical_transformer = StandardScaler()\n",
    "\n",
    "preprocessor = ColumnTransformer(\n",
    "    transformers=[\n",
    "        ('num', numerical_transformer, numerical_features),\n",
    "    ]\n",
    ")\n",
    "\n",
    "pipeline = Pipeline(steps=[\n",
    "    ('preprocessor', preprocessor),\n",
    "    ('classifier', LinearRegression())\n",
    "])\n",
    "\n",
    "pipeline.fit(heihgts_X_train, heihgts_y_train)\n",
    "y_pred = pipeline.predict(heihgts_X_test)\n",
    "\n",
    "print(f\"Sklearn Linear baseline MAE metric is: {mean_absolute_error(heihgts_y_test, y_pred)}\")"
   ]
  },
  {
   "cell_type": "markdown",
   "metadata": {},
   "source": [
    "### Собственная имплементация"
   ]
  },
  {
   "cell_type": "code",
   "execution_count": 64,
   "metadata": {},
   "outputs": [],
   "source": [
    "class LinearRegressionImpl(BaseEstimator, ClassifierMixin):\n",
    "    def __init__(self, max_iter=5000, lr=0.04, tol=0.001, l1_coef=0.1):\n",
    "        self.max_iter = max_iter\n",
    "        self.lr = lr\n",
    "        self.tol = tol\n",
    "        self.l1_coef = l1_coef\n",
    "        self.weights = None\n",
    "        self.bias = None\n",
    "\n",
    "    def fit(self, X_train, y_train):\n",
    "        n, m = X_train.shape\n",
    "        y_train = y_train.to_numpy().reshape(-1, 1)\n",
    "\n",
    "        self.weights = np.zeros((m, 1))\n",
    "        self.bias = np.mean(y_train)\n",
    "\n",
    "        n_iter = 0\n",
    "        gradient_norm = np.inf\n",
    "\n",
    "        while n_iter < self.max_iter and gradient_norm > self.tol:\n",
    "            dJdw, dJdb = self.grads(X_train, y_train)\n",
    "            gradient_norm = np.linalg.norm(np.hstack([dJdw.flatten(), [dJdb]]))\n",
    "            self.weights -= self.lr * dJdw\n",
    "            self.bias -= self.lr * dJdb\n",
    "\n",
    "            n_iter += 1\n",
    "\n",
    "        return self\n",
    "\n",
    "    def predict(self, X):\n",
    "        return np.dot(X, self.weights) + self.bias\n",
    "\n",
    "    def grads(self, X, y):\n",
    "        y_hat = self.predict(X)\n",
    "\n",
    "        dJdw = np.mean(X * (y_hat - y) + self.l1_coef * np.sign(self.weights.T), axis=0, keepdims=True).T\n",
    "        dJdb = np.mean(y_hat - y)\n",
    "\n",
    "        return dJdw, dJdb"
   ]
  },
  {
   "cell_type": "code",
   "execution_count": 135,
   "metadata": {},
   "outputs": [
    {
     "name": "stdout",
     "output_type": "stream",
     "text": [
      "Custom Linear baseline MAE metric is: 1.69415968417844\n"
     ]
    }
   ],
   "source": [
    "\n",
    "numerical_transformer = StandardScaler()\n",
    "\n",
    "preprocessor = ColumnTransformer(\n",
    "    transformers=[\n",
    "        ('num', numerical_transformer, numerical_features),\n",
    "    ]\n",
    ")\n",
    "\n",
    "pipeline = Pipeline(steps=[\n",
    "    ('preprocessor', preprocessor),\n",
    "    ('classifier', LinearRegressionImpl())\n",
    "])\n",
    "\n",
    "pipeline.fit(heihgts_X_train, heihgts_y_train)\n",
    "y_pred = pipeline.predict(heihgts_X_test)\n",
    "\n",
    "\n",
    "print(f\"Custom Linear baseline MAE metric is: {mean_absolute_error(heihgts_y_test, y_pred)}\")\n"
   ]
  },
  {
   "cell_type": "markdown",
   "metadata": {},
   "source": [
    "#### Улучшение"
   ]
  },
  {
   "cell_type": "code",
   "execution_count": 136,
   "metadata": {},
   "outputs": [
    {
     "name": "stdout",
     "output_type": "stream",
     "text": [
      "My Linear baseline MAE metric is: 1.69415968417844\n"
     ]
    }
   ],
   "source": [
    "new_heihgts_X_train = add_height_features(heihgts_X_train.copy())\n",
    "new_heihgts_X_test = add_height_features(heihgts_X_test.copy())\n",
    "\n",
    "preprocessor = ColumnTransformer(\n",
    "    transformers=[\n",
    "        ('num', numerical_transformer, numerical_features),\n",
    "    ]\n",
    ")\n",
    "pipeline = Pipeline(steps=[\n",
    "    ('preprocessor', preprocessor),\n",
    "    ('classifier', LinearRegressionImpl())\n",
    "])\n",
    "\n",
    "pipeline.fit(new_heihgts_X_train, heihgts_y_train)\n",
    "y_pred = pipeline.predict(new_heihgts_X_test)\n",
    "\n",
    "\n",
    "print(f\"My Linear baseline MAE metric is: {mean_absolute_error(heihgts_y_test, y_pred)}\")"
   ]
  },
  {
   "cell_type": "markdown",
   "metadata": {},
   "source": [
    "### Выводы"
   ]
  },
  {
   "cell_type": "markdown",
   "metadata": {},
   "source": [
    "Собственная реализация логистической регрессии продемонстрировала результаты, близкие к тем, что получены с использованием библиотеки scikit-learn. Это свидетельствует о правильности и эффективности подхода, используемого в разработке алгоритма. Важность дополнительной информации: Результаты эксперимента показали, что добавление новых признаков не улучшает предсказательные возможности модели. Что подчеркивает не важность таких связей параметров датасета.\n",
    "\n",
    "Перспективы улучшения: Несмотря на достигнутые результаты, существует потенциал для дальнейшего повышения точности и уменьшения ошибок модели. Это можно достичь за счет оптимизации параметров, внедрения альтернативных алгоритмов обучения и улучшенных методов предобработки данных."
   ]
  },
  {
   "cell_type": "markdown",
   "metadata": {},
   "source": [
    "# Работа 3 (Decision Tree)"
   ]
  },
  {
   "cell_type": "markdown",
   "metadata": {},
   "source": [
    "## Классификация"
   ]
  },
  {
   "cell_type": "markdown",
   "metadata": {},
   "source": [
    "### Бейзлайн классификации"
   ]
  },
  {
   "cell_type": "code",
   "execution_count": 137,
   "metadata": {},
   "outputs": [
    {
     "name": "stdout",
     "output_type": "stream",
     "text": [
      "Sklearn DecisionTreeClassifier baseline accuracy_score metric is: 0.7580645161290323\n"
     ]
    }
   ],
   "source": [
    "pipeline = Pipeline(steps=[\n",
    "    ('scaler', StandardScaler()),\n",
    "    ('classifier', DecisionTreeClassifier(criterion='gini', max_depth=3, random_state=69))\n",
    "])\n",
    "\n",
    "pipeline.fit(pulsars_X_train, pulsars_y_train)\n",
    "pulsars_y_pred = pipeline.predict(pulsars_X_test)\n",
    "\n",
    "print(f\"Sklearn DecisionTreeClassifier baseline accuracy_score metric is: {accuracy_score(pulsars_y_test, pulsars_y_pred)}\")"
   ]
  },
  {
   "cell_type": "markdown",
   "metadata": {},
   "source": [
    "#### Подбор гиперпараметров"
   ]
  },
  {
   "cell_type": "code",
   "execution_count": 138,
   "metadata": {},
   "outputs": [
    {
     "name": "stdout",
     "output_type": "stream",
     "text": [
      "Tuned DecisionTreeClassifier accuracy_score: 0.7419354838709677\n",
      "Best parameters found:  {'classifier__min_samples_split': 10, 'classifier__min_samples_leaf': 2, 'classifier__max_features': None, 'classifier__max_depth': 5, 'classifier__criterion': 'entropy'}\n"
     ]
    }
   ],
   "source": [
    "param_distributions = {\n",
    "    'classifier__criterion': ['gini', 'entropy'],\n",
    "    'classifier__max_depth': [None, 3, 5, 10, 20],\n",
    "    'classifier__min_samples_split': [2, 5, 10],\n",
    "    'classifier__min_samples_leaf': [1, 2, 4],\n",
    "    'classifier__max_features': [None, 'sqrt', 'log2']\n",
    "}\n",
    "\n",
    "random_search = RandomizedSearchCV(\n",
    "    estimator=pipeline,\n",
    "    param_distributions=param_distributions,\n",
    "    n_iter=50,\n",
    "    cv=5,\n",
    "    scoring='accuracy',\n",
    "    random_state=1337,\n",
    "    n_jobs=-1\n",
    ")\n",
    "\n",
    "\n",
    "random_search.fit(pulsars_X_train, pulsars_y_train)\n",
    "pulsars_y_pred = random_search.predict(pulsars_X_test)\n",
    "print(f\"Tuned DecisionTreeClassifier accuracy_score: {accuracy_score(pulsars_y_test, pulsars_y_pred)}\")\n",
    "\n",
    "# Лучшие параметры\n",
    "print(\"Best parameters found: \", random_search.best_params_)"
   ]
  },
  {
   "cell_type": "markdown",
   "metadata": {},
   "source": [
    "### Собственная имплементация"
   ]
  },
  {
   "cell_type": "code",
   "execution_count": 139,
   "metadata": {},
   "outputs": [],
   "source": [
    "class DecisionTreeClassifierImpl:\n",
    "    def __init__(self, max_depth=None, max_features=None, min_samples_split=2, min_leaf_samples=None):\n",
    "        self.max_depth = max_depth\n",
    "        self.max_features = max_features\n",
    "        self.min_samples_split = min_samples_split\n",
    "        self.min_leaf_samples = min_leaf_samples\n",
    "        self._node = {\n",
    "            'left': None,\n",
    "            'right': None,\n",
    "            'feature': None,\n",
    "            'threshold': None,\n",
    "            'depth': 0,\n",
    "            'classes_proba': None\n",
    "        }\n",
    "        self.tree = None\n",
    "        self.classes = None\n",
    "\n",
    "\n",
    "    def set_params(self, **params):\n",
    "        for param, value in params.items():\n",
    "            setattr(self, param, value)\n",
    "        return self\n",
    "\n",
    "\n",
    "    def fit(self, X, y):\n",
    "        self.classes = np.unique(y)\n",
    "        self.tree = {'root': self._node.copy()}\n",
    "        self._build_tree(self.tree['root'], X, y)\n",
    "        return self\n",
    "\n",
    "    def predict_proba(self, X):\n",
    "        proba_preds = []\n",
    "        for x in X:\n",
    "            preds_for_x = self._get_predict(self.tree['root'], x)\n",
    "            proba_preds.append(preds_for_x)\n",
    "        return np.array(proba_preds)\n",
    "\n",
    "    def predict(self, X):\n",
    "        proba_preds = self.predict_proba(X)\n",
    "        preds = proba_preds.argmax(axis=1).reshape(-1, 1)\n",
    "        return preds\n",
    "\n",
    "    def get_best_split(self, X, y):\n",
    "        best_j = None\n",
    "        best_t = None\n",
    "        best_left_ids = None\n",
    "        best_right_ids = None\n",
    "        best_Q = float('-inf')\n",
    "\n",
    "        for i in range(X.shape[1]):\n",
    "            unique_features = np.unique(X[:, i])\n",
    "            for j in range(len(unique_features) - 1):\n",
    "                cur_threshold = (unique_features[j] + unique_features[j + 1]) / 2\n",
    "                left_indexes = X[:, i] < cur_threshold\n",
    "                left_children_y = y[left_indexes]\n",
    "                right_children_y = y[~left_indexes]\n",
    "\n",
    "                # Условие минимального числа объектов в листе\n",
    "                if len(left_children_y) < self.min_samples_split or len(right_children_y) < self.min_samples_split:\n",
    "                    continue\n",
    "\n",
    "                cur_Q = self.calc_Q(y, left_children_y, right_children_y)\n",
    "                if cur_Q > best_Q:\n",
    "                    best_Q = cur_Q\n",
    "                    best_j = i\n",
    "                    best_t = cur_threshold\n",
    "                    best_left_ids = left_indexes\n",
    "                    best_right_ids = ~left_indexes\n",
    "\n",
    "        return best_j, best_t, best_left_ids, best_right_ids\n",
    "\n",
    "    def calc_Q(self, y, y_left, y_right):\n",
    "        Q = self.gini(y) - ((len(y_left) / len(y)) * self.gini(y_left) + (len(y_right) / len(y)) * self.gini(y_right))\n",
    "        return Q\n",
    "\n",
    "    def gini(self, y):\n",
    "        H = 0\n",
    "        for label in self.classes:\n",
    "            prob = (y == label).sum() / len(y)\n",
    "            H += prob * (1 - prob)\n",
    "        return H\n",
    "\n",
    "    def _build_tree(self, curr_node, X, y):\n",
    "        if curr_node['depth'] == self.max_depth:\n",
    "            curr_node['classes_proba'] = {c: (y == c).mean() for c in self.classes}\n",
    "            return\n",
    "\n",
    "        if len(y) < self.min_samples_split:\n",
    "            curr_node['classes_proba'] = {c: (y == c).mean() for c in self.classes}\n",
    "            return\n",
    "\n",
    "        if len(np.unique(y)) == 1:\n",
    "            curr_node['classes_proba'] = {c: (y == c).mean() for c in self.classes}\n",
    "            return\n",
    "\n",
    "        j, t, left_ids, right_ids = self.get_best_split(X, y)\n",
    "\n",
    "        if j is None or t is None:\n",
    "            curr_node['classes_proba'] = {c: (y == c).mean() for c in self.classes}\n",
    "            return\n",
    "\n",
    "        curr_node['feature'] = j\n",
    "        curr_node['threshold'] = t\n",
    "\n",
    "        left = self._node.copy()\n",
    "        right = self._node.copy()\n",
    "        left['depth'] = curr_node['depth'] + 1\n",
    "        right['depth'] = curr_node['depth'] + 1\n",
    "\n",
    "        curr_node['left'] = left\n",
    "        curr_node['right'] = right\n",
    "\n",
    "        self._build_tree(left, X[left_ids], y[left_ids])\n",
    "        self._build_tree(right, X[right_ids], y[right_ids])\n",
    "\n",
    "    def _get_predict(self, node, x):\n",
    "        if node['threshold'] is None:\n",
    "            return [node['classes_proba'][c] for c in self.classes]\n",
    "\n",
    "        if x[node['feature']] <= node['threshold']:\n",
    "            return self._get_predict(node['left'], x)\n",
    "        else:\n",
    "            return self._get_predict(node['right'], x)"
   ]
  },
  {
   "cell_type": "code",
   "execution_count": 140,
   "metadata": {},
   "outputs": [
    {
     "name": "stdout",
     "output_type": "stream",
     "text": [
      "My DecisionTreeClassifierImpl baseline accuracy_score metric is: 0.7580645161290323\n"
     ]
    }
   ],
   "source": [
    "pipeline = Pipeline(steps=[\n",
    "    ('scaler', StandardScaler()),\n",
    "    ('classifier', DecisionTreeClassifierImpl(max_depth=3))\n",
    "])\n",
    "\n",
    "pipeline.fit(pulsars_X_train, pulsars_y_train)\n",
    "pulsars_y_pred = pipeline.predict(pulsars_X_test)\n",
    "\n",
    "print(f\"My DecisionTreeClassifierImpl baseline accuracy_score metric is: {accuracy_score(pulsars_y_test, pulsars_y_pred)}\")"
   ]
  },
  {
   "cell_type": "markdown",
   "metadata": {},
   "source": [
    "#### Улучшение"
   ]
  },
  {
   "cell_type": "code",
   "execution_count": 141,
   "metadata": {},
   "outputs": [
    {
     "name": "stdout",
     "output_type": "stream",
     "text": [
      "Best parameters found:  {'classifier__max_depth': 7}\n",
      "My DecisionTreeClassifierImpl baseline accuracy_score metric is: 0.717741935483871\n"
     ]
    }
   ],
   "source": [
    "param_grid = {\n",
    "    'classifier__max_depth': [2, 3, 5, 6, 7],\n",
    "}\n",
    "\n",
    "grid_search = GridSearchCV(pipeline, param_grid, cv=5, scoring='accuracy', n_jobs=-1)\n",
    "\n",
    "grid_search.fit(pulsars_X_train, pulsars_y_train)\n",
    "pulsars_y_pred = grid_search.predict(pulsars_X_test)\n",
    "\n",
    "print(\"Best parameters found: \", grid_search.best_params_)\n",
    "print(f\"My DecisionTreeClassifierImpl baseline accuracy_score metric is: {accuracy_score(pulsars_y_test, pulsars_y_pred)}\")\n"
   ]
  },
  {
   "cell_type": "markdown",
   "metadata": {},
   "source": [
    "## Регрессия"
   ]
  },
  {
   "cell_type": "markdown",
   "metadata": {},
   "source": [
    "### Бейзлайн регрессии"
   ]
  },
  {
   "cell_type": "code",
   "execution_count": 142,
   "metadata": {},
   "outputs": [
    {
     "name": "stdout",
     "output_type": "stream",
     "text": [
      "Sklearn RegressionTree baseline MAE metric is: 1.6990912577594033\n"
     ]
    }
   ],
   "source": [
    "numerical_transformer = StandardScaler()\n",
    "\n",
    "preprocessor = ColumnTransformer(\n",
    "    transformers=[\n",
    "        ('num', numerical_transformer, numerical_features),\n",
    "    ]\n",
    ")\n",
    "\n",
    "pipeline = Pipeline(steps=[\n",
    "    ('preprocessor', preprocessor),\n",
    "    ('classifier', DecisionTreeRegressor(criterion='squared_error', max_depth=5, random_state=69))\n",
    "])\n",
    "\n",
    "pipeline.fit(heihgts_X_train, heihgts_y_train)\n",
    "y_pred = pipeline.predict(heihgts_X_test)\n",
    "\n",
    "print(f\"Sklearn RegressionTree baseline MAE metric is: {mean_absolute_error(heihgts_y_test, y_pred)}\")"
   ]
  },
  {
   "cell_type": "markdown",
   "metadata": {},
   "source": [
    "### Собственная имплементация"
   ]
  },
  {
   "cell_type": "code",
   "execution_count": 143,
   "metadata": {},
   "outputs": [],
   "source": [
    "class DecisionTreeRegressorImpl:\n",
    "    def __init__(self, max_depth=None, min_samples_split=2):\n",
    "        self.max_depth = max_depth\n",
    "        self.min_samples_split = min_samples_split\n",
    "        self._node = {\n",
    "            'left': None,\n",
    "            'right': None,\n",
    "            'feature': None,\n",
    "            'threshold': None,\n",
    "            'depth': 0,\n",
    "            'value': None\n",
    "        }\n",
    "        self.tree = None\n",
    "\n",
    "    def set_params(self, **params):\n",
    "        for param, value in params.items():\n",
    "            setattr(self, param, value)\n",
    "        return self\n",
    "\n",
    "    def fit(self, X, y):\n",
    "        self.tree = {'root': self._node.copy()}\n",
    "        self._build_tree(self.tree['root'], X, y)\n",
    "        return self\n",
    "\n",
    "    def predict(self, X):\n",
    "        predictions = []\n",
    "        for x in X:\n",
    "            pred = self._get_prediction(self.tree['root'], x)\n",
    "            predictions.append(pred)\n",
    "        return np.array(predictions)\n",
    "\n",
    "    def get_best_split(self, X, y):\n",
    "        best_feature = None\n",
    "        best_threshold = None\n",
    "        best_left_ids = None\n",
    "        best_right_ids = None\n",
    "        best_impurity = float('inf')\n",
    "\n",
    "        for i in range(X.shape[1]):\n",
    "            unique_values = np.unique(X[:, i])\n",
    "            for j in range(len(unique_values) - 1):\n",
    "                threshold = (unique_values[j] + unique_values[j + 1]) / 2\n",
    "                left_ids = X[:, i] < threshold\n",
    "                right_ids = ~left_ids\n",
    "\n",
    "                if len(y[left_ids]) < self.min_samples_split or len(y[right_ids]) < self.min_samples_split:\n",
    "                    continue\n",
    "\n",
    "                impurity = self.calc_impurity(y, y[left_ids], y[right_ids])\n",
    "                if impurity < best_impurity:\n",
    "                    best_impurity = impurity\n",
    "                    best_feature = i\n",
    "                    best_threshold = threshold\n",
    "                    best_left_ids = left_ids\n",
    "                    best_right_ids = right_ids\n",
    "\n",
    "        return best_feature, best_threshold, best_left_ids, best_right_ids\n",
    "\n",
    "    def calc_impurity(self, y, y_left, y_right):\n",
    "        # Снижение дисперсии\n",
    "        def variance(data):\n",
    "            return np.var(data) * len(data)\n",
    "\n",
    "        left_impurity = variance(y_left)\n",
    "        right_impurity = variance(y_right)\n",
    "        total_impurity = (left_impurity + right_impurity) / len(y)\n",
    "        return total_impurity\n",
    "\n",
    "    def _build_tree(self, curr_node, X, y):\n",
    "\n",
    "        if curr_node['depth'] == self.max_depth or len(y) < self.min_samples_split:\n",
    "            curr_node['value'] = np.mean(y)\n",
    "            return\n",
    "\n",
    "        if np.var(y) == 0:\n",
    "            curr_node['value'] = np.mean(y)\n",
    "            return\n",
    "\n",
    "        feature, threshold, left_ids, right_ids = self.get_best_split(X, y)\n",
    "\n",
    "        if feature is None:\n",
    "            curr_node['value'] = np.mean(y)\n",
    "            return\n",
    "\n",
    "        curr_node['feature'] = feature\n",
    "        curr_node['threshold'] = threshold\n",
    "\n",
    "        left = self._node.copy()\n",
    "        right = self._node.copy()\n",
    "        left['depth'] = curr_node['depth'] + 1\n",
    "        right['depth'] = curr_node['depth'] + 1\n",
    "\n",
    "        curr_node['left'] = left\n",
    "        curr_node['right'] = right\n",
    "\n",
    "        self._build_tree(left, X[left_ids], y[left_ids])\n",
    "        self._build_tree(right, X[right_ids], y[right_ids])\n",
    "\n",
    "    def _get_prediction(self, node, x):\n",
    "        if node['threshold'] is None:\n",
    "            return node['value']\n",
    "\n",
    "        if x[node['feature']] <= node['threshold']:\n",
    "            return self._get_prediction(node['left'], x)\n",
    "        else:\n",
    "            return self._get_prediction(node['right'], x)"
   ]
  },
  {
   "cell_type": "code",
   "execution_count": 144,
   "metadata": {},
   "outputs": [
    {
     "name": "stdout",
     "output_type": "stream",
     "text": [
      "Сustom RegressionTree baseline MAE metric is: 1.6989086011538217\n"
     ]
    }
   ],
   "source": [
    "\n",
    "numerical_transformer = StandardScaler()\n",
    "\n",
    "preprocessor = ColumnTransformer(\n",
    "    transformers=[\n",
    "        ('num', numerical_transformer, numerical_features),\n",
    "    ]\n",
    ")\n",
    "\n",
    "pipeline = Pipeline(steps=[\n",
    "    ('preprocessor', preprocessor),\n",
    "    ('classifier', DecisionTreeRegressorImpl(max_depth=5))\n",
    "])\n",
    "\n",
    "pipeline.fit(heihgts_X_train, heihgts_y_train)\n",
    "y_pred = pipeline.predict(heihgts_X_test)\n",
    "\n",
    "print(f\"Сustom RegressionTree baseline MAE metric is: {mean_absolute_error(heihgts_y_test, y_pred)}\")"
   ]
  },
  {
   "cell_type": "markdown",
   "metadata": {},
   "source": [
    "#### Улучшение"
   ]
  },
  {
   "cell_type": "code",
   "execution_count": 145,
   "metadata": {},
   "outputs": [
    {
     "name": "stdout",
     "output_type": "stream",
     "text": [
      "Лучшие параметры: {'classifier__max_depth': 5}\n",
      "Лучшая MAE: 1.746826412182005\n",
      "Оптимизированная MAE на тестовом наборе: 1.6989086011538217\n"
     ]
    }
   ],
   "source": [
    "param_grid = {\n",
    "    'classifier__max_depth': [2, 3, 5, 6],\n",
    "}\n",
    "\n",
    "grid_search = GridSearchCV(pipeline, param_grid, cv=5, scoring='neg_mean_absolute_error', n_jobs=-1)\n",
    "grid_search.fit(heihgts_X_train, heihgts_y_train)\n",
    "\n",
    "best_params = grid_search.best_params_\n",
    "best_score = -grid_search.best_score_\n",
    "\n",
    "print(f\"Лучшие параметры: {best_params}\")\n",
    "print(f\"Лучшая MAE: {best_score}\")\n",
    "\n",
    "y_pred = grid_search.predict(heihgts_X_test)\n",
    "mae_optimized = mean_absolute_error(heihgts_y_test, y_pred)\n",
    "print(f\"Оптимизированная MAE на тестовом наборе: {mae_optimized}\")"
   ]
  },
  {
   "cell_type": "markdown",
   "metadata": {},
   "source": [
    "### Выводы"
   ]
  },
  {
   "cell_type": "markdown",
   "metadata": {},
   "source": [
    "Собственная реализация выйграла у библиотечной в 4 знаке после запятой, что несопоставимо мало, поэтому с точки зрения такого алгоритма рациональнее использовать готовое решение, нежели писать собственное, так как это занмает время разработки, и кроме этого, итоговое решение проигрывает по времени исполнения.\n",
    "Незначительное улучшение в оптимизированных версиях указывает, что дальнейшая настройка может не дать более значительное повышение точности. Различия в параметрах оптимизации для Sklearn и собственной реализации говорят о возможных различиях в реализации алгоритмов."
   ]
  },
  {
   "cell_type": "markdown",
   "metadata": {},
   "source": [
    "# Работа 4 (Random Forest)"
   ]
  },
  {
   "cell_type": "markdown",
   "metadata": {},
   "source": [
    "## Классификация"
   ]
  },
  {
   "cell_type": "markdown",
   "metadata": {},
   "source": [
    "### Бейзлайн классификации"
   ]
  },
  {
   "cell_type": "code",
   "execution_count": 146,
   "metadata": {},
   "outputs": [
    {
     "name": "stdout",
     "output_type": "stream",
     "text": [
      "Sklearn RandomForest baseline accuracy_score metric is: 0.7661290322580645\n"
     ]
    }
   ],
   "source": [
    "\n",
    "pipeline = Pipeline(steps=[\n",
    "    ('scaler', StandardScaler()),\n",
    "    ('classifier', RandomForestClassifier(n_estimators=100, max_depth=5))\n",
    "])\n",
    "\n",
    "pipeline.fit(pulsars_X_train, pulsars_y_train)\n",
    "pulsars_y_pred = pipeline.predict(pulsars_X_test)\n",
    "\n",
    "print(f\"Sklearn RandomForest baseline accuracy_score metric is: {accuracy_score(pulsars_y_test, pulsars_y_pred)}\")"
   ]
  },
  {
   "cell_type": "markdown",
   "metadata": {},
   "source": [
    "#### Подбор гиперпараметров"
   ]
  },
  {
   "cell_type": "code",
   "execution_count": 147,
   "metadata": {},
   "outputs": [
    {
     "name": "stdout",
     "output_type": "stream",
     "text": [
      "Tuned RandomForest accuracy_score: 0.7580645161290323\n",
      "Best parameters found: {'classifier__max_depth': 3, 'classifier__min_samples_leaf': 1, 'classifier__min_samples_split': 10, 'classifier__n_estimators': 150}\n"
     ]
    }
   ],
   "source": [
    "param_grid = {\n",
    "    'classifier__n_estimators': [50, 100, 150],\n",
    "    'classifier__max_depth': [3, 5, 7],\n",
    "    'classifier__min_samples_split': [2, 5, 10],\n",
    "    'classifier__min_samples_leaf': [1, 2, 4],\n",
    "}\n",
    "\n",
    "\n",
    "grid_search = GridSearchCV(estimator=pipeline, param_grid=param_grid, cv=5, n_jobs=-1)\n",
    "\n",
    "grid_search.fit(pulsars_X_train, pulsars_y_train)\n",
    "pulsars_y_pred = grid_search.predict(pulsars_X_test)\n",
    "print(f\"Tuned RandomForest accuracy_score: {accuracy_score(pulsars_y_test, pulsars_y_pred)}\")\n",
    "print(f\"Best parameters found: {grid_search.best_params_}\")"
   ]
  },
  {
   "cell_type": "markdown",
   "metadata": {},
   "source": [
    "### Собственная имплементация"
   ]
  },
  {
   "cell_type": "code",
   "execution_count": 78,
   "metadata": {},
   "outputs": [],
   "source": [
    "class RandomForestClassifierImpl(BaseEstimator, ClassifierMixin):\n",
    "    def __init__(self, n_estimators=10, max_depth=None, min_samples_split=2, max_features=None, random_state=None):\n",
    "        self.n_estimators = n_estimators\n",
    "        self.max_depth = max_depth\n",
    "        self.min_samples_split = min_samples_split\n",
    "        self.max_features = max_features\n",
    "        self.random_state = random_state\n",
    "        self.trees = []\n",
    "        self.feature_indices = []\n",
    "\n",
    "    def fit(self, X, y):\n",
    "        y = y.to_numpy().reshape(-1, 1)\n",
    "        np.random.seed(self.random_state)\n",
    "        self.trees = []\n",
    "        self.feature_indices = []\n",
    "\n",
    "        n_samples, n_features = X.shape\n",
    "\n",
    "        for _ in range(self.n_estimators):\n",
    "            # Bootstrap sampling\n",
    "            sample_indices = np.random.choice(n_samples, n_samples, replace=True)\n",
    "            X_sample = X[sample_indices]\n",
    "            y_sample = y[sample_indices]\n",
    "\n",
    "            # Subset of features\n",
    "            if self.max_features is None:\n",
    "                max_features = n_features\n",
    "            else:\n",
    "                max_features = min(n_features, self.max_features)\n",
    "            feature_indices = np.random.choice(n_features, max_features, replace=False)\n",
    "            self.feature_indices.append(feature_indices)\n",
    "\n",
    "            # Train a tree\n",
    "            tree = DecisionTreeClassifierImpl(max_depth=self.max_depth, min_samples_split=self.min_samples_split)\n",
    "            tree.fit(X_sample[:, feature_indices], y_sample)\n",
    "            self.trees.append(tree)\n",
    "\n",
    "        return self\n",
    "\n",
    "    def predict(self, X):\n",
    "        # Aggregate predictions from all trees (majority voting)\n",
    "        predictions = np.zeros((X.shape[0], len(self.trees)))\n",
    "        for i, tree in enumerate(self.trees):\n",
    "            predictions[:, i] = tree.predict(X[:, self.feature_indices[i]]).flatten()\n",
    "\n",
    "        # Majority voting\n",
    "        final_predictions = np.apply_along_axis(lambda x: np.bincount(x.astype(int)).argmax(), axis=1, arr=predictions)\n",
    "        return final_predictions\n",
    "\n",
    "    def predict_proba(self, X):\n",
    "        # Aggregate probabilities from all trees\n",
    "        predictions = np.zeros((X.shape[0], len(self.trees), len(np.unique(self.trees[0].classes))))\n",
    "        for i, tree in enumerate(self.trees):\n",
    "            predictions[:, i, :] = tree.predict_proba(X[:, self.feature_indices[i]])\n",
    "        return np.mean(predictions, axis=1)"
   ]
  },
  {
   "cell_type": "code",
   "execution_count": 148,
   "metadata": {},
   "outputs": [
    {
     "name": "stdout",
     "output_type": "stream",
     "text": [
      "My RandomForest baseline accuracy_score metric is: 0.7741935483870968\n"
     ]
    }
   ],
   "source": [
    "pipeline = Pipeline(steps=[\n",
    "    ('scaler', StandardScaler()),\n",
    "    ('classifier', RandomForestClassifierImpl(n_estimators=100, max_depth=5))\n",
    "])\n",
    "\n",
    "pipeline.fit(pulsars_X_train, pulsars_y_train)\n",
    "pulsars_y_pred = pipeline.predict(pulsars_X_test)\n",
    "\n",
    "print(f\"My RandomForest baseline accuracy_score metric is: {accuracy_score(pulsars_y_test, pulsars_y_pred)}\")"
   ]
  },
  {
   "cell_type": "markdown",
   "metadata": {},
   "source": [
    "#### Подбор гиперпараметров"
   ]
  },
  {
   "cell_type": "code",
   "execution_count": 149,
   "metadata": {},
   "outputs": [
    {
     "name": "stdout",
     "output_type": "stream",
     "text": [
      "Tuned My RandomForest accuracy_score: 0.7580645161290323\n",
      "Best parameters found: {'classifier__max_depth': 3, 'classifier__n_estimators': 100}\n"
     ]
    }
   ],
   "source": [
    "param_grid = {\n",
    "    'classifier__n_estimators': [50, 100, 150],\n",
    "    'classifier__max_depth': [3, 5, 7],\n",
    "}\n",
    "\n",
    "\n",
    "grid_search = GridSearchCV(estimator=pipeline, param_grid=param_grid, cv=5, n_jobs=-1)\n",
    "\n",
    "grid_search.fit(pulsars_X_train, pulsars_y_train)\n",
    "pulsars_y_pred = grid_search.predict(pulsars_X_test)\n",
    "print(f\"Tuned My RandomForest accuracy_score: {accuracy_score(pulsars_y_test, pulsars_y_pred)}\")\n",
    "print(f\"Best parameters found: {grid_search.best_params_}\")"
   ]
  },
  {
   "cell_type": "markdown",
   "metadata": {},
   "source": [
    "## Регрессия"
   ]
  },
  {
   "cell_type": "markdown",
   "metadata": {},
   "source": [
    "### Бейзлайн регрессии"
   ]
  },
  {
   "cell_type": "code",
   "execution_count": 150,
   "metadata": {},
   "outputs": [
    {
     "name": "stdout",
     "output_type": "stream",
     "text": [
      "Sklearn RandomForest baseline MAE metric is: 1.6452009951137\n"
     ]
    }
   ],
   "source": [
    "numerical_transformer = StandardScaler()\n",
    "\n",
    "preprocessor = ColumnTransformer(\n",
    "    transformers=[\n",
    "        ('num', numerical_transformer, numerical_features),\n",
    "    ]\n",
    ")\n",
    "\n",
    "pipeline = Pipeline(steps=[\n",
    "    ('preprocessor', preprocessor),\n",
    "    ('classifier', RandomForestRegressor(n_estimators=100, max_depth=10, min_samples_leaf=5))\n",
    "])\n",
    "\n",
    "pipeline.fit(heihgts_X_train, heihgts_y_train)\n",
    "y_pred = pipeline.predict(heihgts_X_test)\n",
    "\n",
    "print(f\"Sklearn RandomForest baseline MAE metric is: {mean_absolute_error(heihgts_y_test, y_pred)}\")"
   ]
  },
  {
   "cell_type": "markdown",
   "metadata": {},
   "source": [
    "#### Подбор гиперпараметров"
   ]
  },
  {
   "cell_type": "code",
   "execution_count": 151,
   "metadata": {},
   "outputs": [
    {
     "name": "stdout",
     "output_type": "stream",
     "text": [
      "Tuned RandomForest MAE: 1.6733215511509514\n",
      "Best parameters found: {'classifier__max_depth': 5, 'classifier__min_samples_leaf': 3, 'classifier__n_estimators': 50}\n"
     ]
    }
   ],
   "source": [
    "param_grid = {\n",
    "    'classifier__n_estimators': [50, 100, 150],\n",
    "    'classifier__max_depth': [5, 10, 15],\n",
    "    'classifier__min_samples_leaf': [1, 3, 5],\n",
    "}\n",
    "\n",
    "grid_search = GridSearchCV(estimator=pipeline, param_grid=param_grid, cv=5, n_jobs=-1)\n",
    "\n",
    "grid_search.fit(heihgts_X_train, heihgts_y_train)\n",
    "y_pred = grid_search.predict(heihgts_X_test)\n",
    "print(f\"Tuned RandomForest MAE: {mean_absolute_error(heihgts_y_test, y_pred)}\")\n",
    "print(f\"Best parameters found: {grid_search.best_params_}\")"
   ]
  },
  {
   "cell_type": "markdown",
   "metadata": {},
   "source": [
    "### Собственная имплементация"
   ]
  },
  {
   "cell_type": "code",
   "execution_count": 152,
   "metadata": {},
   "outputs": [],
   "source": [
    "class RandomForestRegressorImpl(BaseEstimator, RegressorMixin):\n",
    "    def __init__(self, n_estimators=10, max_depth=None, min_samples_split=2, max_features=None, random_state=None):\n",
    "        self.n_estimators = n_estimators\n",
    "        self.max_depth = max_depth\n",
    "        self.min_samples_split = min_samples_split\n",
    "        self.max_features = max_features\n",
    "        self.random_state = random_state\n",
    "        self.trees = []\n",
    "        self.feature_indices = []\n",
    "\n",
    "    def fit(self, X, y):\n",
    "        y = y.to_numpy().reshape(-1, 1)\n",
    "        np.random.seed(self.random_state)\n",
    "        self.trees = []\n",
    "        self.feature_indices = []\n",
    "\n",
    "        n_samples, n_features = X.shape\n",
    "\n",
    "        for _ in range(self.n_estimators):\n",
    "            # Bootstrap sampling\n",
    "            sample_indices = np.random.choice(n_samples, n_samples, replace=True)\n",
    "            X_sample = X[sample_indices]\n",
    "            y_sample = y[sample_indices]\n",
    "\n",
    "            # Subset of features\n",
    "            if self.max_features is None:\n",
    "                max_features = n_features\n",
    "            else:\n",
    "                max_features = min(n_features, self.max_features)\n",
    "            feature_indices = np.random.choice(n_features, max_features, replace=False)\n",
    "            self.feature_indices.append(feature_indices)\n",
    "\n",
    "            # Train a tree\n",
    "            tree = DecisionTreeRegressorImpl(max_depth=self.max_depth, min_samples_split=self.min_samples_split)\n",
    "            tree.fit(X_sample[:, feature_indices], y_sample)\n",
    "            self.trees.append(tree)\n",
    "\n",
    "        return self\n",
    "\n",
    "    def predict(self, X):\n",
    "        # Aggregate predictions from all trees\n",
    "        predictions = np.zeros((X.shape[0], len(self.trees)))\n",
    "        for i, tree in enumerate(self.trees):\n",
    "            predictions[:, i] = tree.predict(X[:, self.feature_indices[i]])\n",
    "        return np.mean(predictions, axis=1)"
   ]
  },
  {
   "cell_type": "code",
   "execution_count": 153,
   "metadata": {},
   "outputs": [
    {
     "name": "stdout",
     "output_type": "stream",
     "text": [
      "My RandomForest baseline MAE metric is: 1.6466872104652999\n"
     ]
    }
   ],
   "source": [
    "numerical_transformer = StandardScaler()\n",
    "\n",
    "preprocessor = ColumnTransformer(\n",
    "    transformers=[\n",
    "        ('num', numerical_transformer, numerical_features),\n",
    "    ]\n",
    ")\n",
    "\n",
    "pipeline = Pipeline(steps=[\n",
    "    ('preprocessor', preprocessor),\n",
    "    ('classifier', RandomForestRegressorImpl(n_estimators=100, max_depth=10, min_samples_split=2))\n",
    "])\n",
    "\n",
    "pipeline.fit(heihgts_X_train, heihgts_y_train)\n",
    "y_pred = pipeline.predict(heihgts_X_test)\n",
    "\n",
    "print(f\"My RandomForest baseline MAE metric is: {mean_absolute_error(heihgts_y_test, y_pred)}\")"
   ]
  },
  {
   "cell_type": "markdown",
   "metadata": {},
   "source": [
    "#### Подбор гиперпараметров"
   ]
  },
  {
   "cell_type": "code",
   "execution_count": 155,
   "metadata": {},
   "outputs": [
    {
     "name": "stdout",
     "output_type": "stream",
     "text": [
      "Tuned RandomForest MAE: 1.6676180315581906\n",
      "Best parameters found: {'classifier__max_depth': 5, 'classifier__min_samples_split': 2, 'classifier__n_estimators': 100}\n"
     ]
    }
   ],
   "source": [
    "param_grid = {\n",
    "    'classifier__n_estimators': [50, 100, 150],\n",
    "    'classifier__max_depth': [5, 10],\n",
    "    'classifier__min_samples_split': [2, 3],\n",
    "}\n",
    "\n",
    "grid_search = GridSearchCV(estimator=pipeline, param_grid=param_grid, cv=5, n_jobs=-1)\n",
    "\n",
    "grid_search.fit(heihgts_X_train, heihgts_y_train)\n",
    "y_pred = grid_search.predict(heihgts_X_test)\n",
    "print(f\"Tuned RandomForest MAE: {mean_absolute_error(heihgts_y_test, y_pred)}\")\n",
    "print(f\"Best parameters found: {grid_search.best_params_}\")"
   ]
  },
  {
   "cell_type": "markdown",
   "metadata": {},
   "source": [
    "### Выводы"
   ]
  },
  {
   "cell_type": "markdown",
   "metadata": {},
   "source": [
    "Что стоит отмметить, что собственные реализации работатью сильно дольше готовых из библиотеки. Что касается точности, то с помощью подбора параметров удалось немного повысить точность моделей, но это не стоит того, чтобы так долго ждать завершения обучения"
   ]
  },
  {
   "cell_type": "markdown",
   "metadata": {},
   "source": [
    "# Pабота 5 (Gradient Boosting)"
   ]
  },
  {
   "cell_type": "markdown",
   "metadata": {},
   "source": [
    "## Классификация"
   ]
  },
  {
   "cell_type": "markdown",
   "metadata": {},
   "source": [
    "### Бейзлайн классификации"
   ]
  },
  {
   "cell_type": "code",
   "execution_count": 156,
   "metadata": {},
   "outputs": [
    {
     "name": "stdout",
     "output_type": "stream",
     "text": [
      "Sklearn Boosting baseline accuracy_score metric is: 0.7903225806451613\n"
     ]
    }
   ],
   "source": [
    "pipeline = Pipeline(steps=[\n",
    "    ('scaler', StandardScaler()),\n",
    "    ('classifier', GradientBoostingClassifier(n_estimators=300, learning_rate=0.1, max_leaf_nodes=10, max_depth=2))\n",
    "])\n",
    "\n",
    "pipeline.fit(pulsars_X_train, pulsars_y_train)\n",
    "pulsars_y_pred = pipeline.predict(pulsars_X_test)\n",
    "\n",
    "print(f\"Sklearn Boosting baseline accuracy_score metric is: {accuracy_score(pulsars_y_test, pulsars_y_pred)}\")"
   ]
  },
  {
   "cell_type": "markdown",
   "metadata": {},
   "source": [
    "#### Подбор гиперпараметров"
   ]
  },
  {
   "cell_type": "code",
   "execution_count": 157,
   "metadata": {},
   "outputs": [
    {
     "name": "stdout",
     "output_type": "stream",
     "text": [
      "Tuned Boosting accuracy_score: 0.75\n",
      "Best parameters found: {'classifier__learning_rate': 0.01, 'classifier__max_depth': 3, 'classifier__max_leaf_nodes': 10, 'classifier__n_estimators': 200}\n"
     ]
    }
   ],
   "source": [
    "param_grid = {\n",
    "    'classifier__n_estimators': [100, 200, 300],\n",
    "    'classifier__learning_rate': [0.01, 0.1, 0.2],\n",
    "    'classifier__max_leaf_nodes': [5, 10, 20],\n",
    "    'classifier__max_depth': [2, 3, 4],\n",
    "}\n",
    "grid_search = GridSearchCV(estimator=pipeline, param_grid=param_grid, cv=5, scoring='accuracy', n_jobs=-1)\n",
    "\n",
    "grid_search.fit(pulsars_X_train, pulsars_y_train)\n",
    "pulsars_y_pred = grid_search.predict(pulsars_X_test)\n",
    "print(f\"Tuned Boosting accuracy_score: {accuracy_score(pulsars_y_test, pulsars_y_pred)}\")\n",
    "print(f\"Best parameters found: {grid_search.best_params_}\")"
   ]
  },
  {
   "cell_type": "markdown",
   "metadata": {},
   "source": [
    "### Собственная имплементация"
   ]
  },
  {
   "cell_type": "code",
   "execution_count": 158,
   "metadata": {},
   "outputs": [],
   "source": [
    "class GradientBoostingClassifierImpl(BaseEstimator, ClassifierMixin):\n",
    "    def __init__(self, n_estimators=100, learning_rate=0.1, max_depth=3, min_samples_split=2, random_state=None):\n",
    "        self.n_estimators = n_estimators\n",
    "        self.learning_rate = learning_rate\n",
    "        self.max_depth = max_depth\n",
    "        self.min_samples_split = min_samples_split\n",
    "        self.random_state = random_state\n",
    "        self.trees = []\n",
    "        self.classes_ = None\n",
    "\n",
    "    def fit(self, X, y):\n",
    "        np.random.seed(self.random_state)\n",
    "        self.trees = []\n",
    "\n",
    "        self.classes_ = np.unique(y)\n",
    "        y_onehot = np.eye(len(self.classes_))[y]\n",
    "\n",
    "        y_pred = np.full(y_onehot.shape, np.mean(y_onehot, axis=0))\n",
    "\n",
    "        for _ in range(self.n_estimators):\n",
    "            # Остатки (градиенты)\n",
    "            residuals = y_onehot - self._softmax(y_pred)\n",
    "\n",
    "            class_trees = []\n",
    "            for c in range(len(self.classes_)):\n",
    "                tree = DecisionTreeRegressorImpl(\n",
    "                    max_depth=self.max_depth,\n",
    "                    min_samples_split=self.min_samples_split\n",
    "                )\n",
    "                tree.fit(X, residuals[:, c])\n",
    "                class_trees.append(tree)\n",
    "\n",
    "            self.trees.append(class_trees)\n",
    "\n",
    "            for c, tree in enumerate(class_trees):\n",
    "                y_pred[:, c] += self.learning_rate * tree.predict(X)\n",
    "\n",
    "        return self\n",
    "\n",
    "    def predict_proba(self, X):\n",
    "        y_pred = np.zeros((X.shape[0], len(self.classes_)))\n",
    "        for class_trees in self.trees:\n",
    "            for c, tree in enumerate(class_trees):\n",
    "                y_pred[:, c] += self.learning_rate * tree.predict(X)\n",
    "        return self._softmax(y_pred)\n",
    "\n",
    "    def predict(self, X):\n",
    "        proba = self.predict_proba(X)\n",
    "        return np.argmax(proba, axis=1)\n",
    "\n",
    "    @staticmethod\n",
    "    def _softmax(logits):\n",
    "        exps = np.exp(logits - np.max(logits, axis=1, keepdims=True))\n",
    "        return exps / np.sum(exps, axis=1, keepdims=True)"
   ]
  },
  {
   "cell_type": "code",
   "execution_count": 159,
   "metadata": {},
   "outputs": [
    {
     "name": "stdout",
     "output_type": "stream",
     "text": [
      "Custom Boosting baseline accuracy_score metric is: 0.7741935483870968\n"
     ]
    }
   ],
   "source": [
    "pipeline = Pipeline(steps=[\n",
    "    ('scaler', StandardScaler()),\n",
    "    ('classifier', GradientBoostingClassifierImpl(n_estimators=300, learning_rate=0.1, max_depth=2))\n",
    "])\n",
    "\n",
    "pipeline.fit(pulsars_X_train, pulsars_y_train)\n",
    "pulsars_y_pred = pipeline.predict(pulsars_X_test)\n",
    "\n",
    "print(f\"Custom Boosting baseline accuracy_score metric is: {accuracy_score(pulsars_y_test, pulsars_y_pred)}\")"
   ]
  },
  {
   "cell_type": "markdown",
   "metadata": {},
   "source": [
    "#### Подбор гиперпараметров"
   ]
  },
  {
   "cell_type": "code",
   "execution_count": 160,
   "metadata": {},
   "outputs": [
    {
     "name": "stdout",
     "output_type": "stream",
     "text": [
      "Tuned Boosting accuracy_score: 0.75\n",
      "Best parameters found: {'classifier__learning_rate': 0.05, 'classifier__n_estimators': 100}\n"
     ]
    }
   ],
   "source": [
    "param_grid = {\n",
    "    'classifier__n_estimators': [100, 200, 300],\n",
    "    'classifier__learning_rate': [0.05, 0.1, 0.2],\n",
    "}\n",
    "grid_search = GridSearchCV(estimator=pipeline, param_grid=param_grid, cv=5, scoring='accuracy', n_jobs=-1)\n",
    "\n",
    "grid_search.fit(pulsars_X_train, pulsars_y_train)\n",
    "pulsars_y_pred = grid_search.predict(pulsars_X_test)\n",
    "print(f\"Tuned Boosting accuracy_score: {accuracy_score(pulsars_y_test, pulsars_y_pred)}\")\n",
    "print(f\"Best parameters found: {grid_search.best_params_}\")"
   ]
  },
  {
   "cell_type": "markdown",
   "metadata": {},
   "source": [
    "## Регрессия"
   ]
  },
  {
   "cell_type": "markdown",
   "metadata": {},
   "source": [
    "### Бейзлайн регрессии"
   ]
  },
  {
   "cell_type": "code",
   "execution_count": 161,
   "metadata": {},
   "outputs": [
    {
     "name": "stdout",
     "output_type": "stream",
     "text": [
      "Sklearn Boosting baseline MAE metric is: 1.6762165478919013\n"
     ]
    }
   ],
   "source": [
    "\n",
    "numerical_transformer = StandardScaler()\n",
    "\n",
    "preprocessor = ColumnTransformer(\n",
    "    transformers=[\n",
    "        ('num', numerical_transformer, numerical_features),\n",
    "    ]\n",
    ")\n",
    "\n",
    "pipeline = Pipeline(steps=[\n",
    "    ('preprocessor', preprocessor),\n",
    "    ('classifier', GradientBoostingRegressor(n_estimators=100, learning_rate=0.1, max_depth=3))\n",
    "])\n",
    "\n",
    "pipeline.fit(heihgts_X_train, heihgts_y_train)\n",
    "y_pred = pipeline.predict(heihgts_X_test)\n",
    "\n",
    "print(f\"Sklearn Boosting baseline MAE metric is: {mean_absolute_error(heihgts_y_test, y_pred)}\")"
   ]
  },
  {
   "cell_type": "markdown",
   "metadata": {},
   "source": [
    "#### Подбор гиперпараметров"
   ]
  },
  {
   "cell_type": "code",
   "execution_count": 162,
   "metadata": {},
   "outputs": [
    {
     "name": "stdout",
     "output_type": "stream",
     "text": [
      "Tuned GradientBoosting MAE: 1.6762165478919013\n",
      "Best parameters found: {'classifier__learning_rate': 0.1, 'classifier__max_depth': 3, 'classifier__n_estimators': 100, 'classifier__subsample': 1.0}\n"
     ]
    }
   ],
   "source": [
    "param_grid = {\n",
    "    'classifier__n_estimators': [100, 200, 300],\n",
    "    'classifier__learning_rate': [0.01, 0.1, 0.2],\n",
    "    'classifier__max_depth': [3, 4, 5],\n",
    "    'classifier__subsample': [0.8, 1.0],\n",
    "}\n",
    "\n",
    "grid_search = GridSearchCV(estimator=pipeline, param_grid=param_grid, cv=5, scoring='neg_mean_absolute_error', n_jobs=-1)\n",
    "grid_search.fit(heihgts_X_train, heihgts_y_train)\n",
    "\n",
    "y_pred = grid_search.predict(heihgts_X_test)\n",
    "print(f\"Tuned GradientBoosting MAE: {mean_absolute_error(heihgts_y_test, y_pred)}\")\n",
    "print(f\"Best parameters found: {grid_search.best_params_}\")"
   ]
  },
  {
   "cell_type": "markdown",
   "metadata": {},
   "source": [
    "### Собственная имплементация"
   ]
  },
  {
   "cell_type": "code",
   "execution_count": 163,
   "metadata": {},
   "outputs": [],
   "source": [
    "class GradientBoostingRegressorImpl(BaseEstimator, RegressorMixin):\n",
    "    def __init__(self, n_estimators=100, learning_rate=0.1, max_depth=3, min_samples_split=2, random_state=None):\n",
    "        self.n_estimators = n_estimators\n",
    "        self.learning_rate = learning_rate\n",
    "        self.max_depth = max_depth\n",
    "        self.min_samples_split = min_samples_split\n",
    "        self.random_state = random_state\n",
    "        self.trees = []\n",
    "\n",
    "    def fit(self, X, y):\n",
    "        np.random.seed(self.random_state)\n",
    "        self.trees = []\n",
    "\n",
    "        y_pred = np.full(y.shape, np.mean(y))\n",
    "\n",
    "        for _ in range(self.n_estimators):\n",
    "            residuals = y - y_pred\n",
    "\n",
    "            tree = DecisionTreeRegressorImpl(\n",
    "                max_depth=self.max_depth,\n",
    "                min_samples_split=self.min_samples_split\n",
    "            )\n",
    "            tree.fit(X, residuals)\n",
    "            self.trees.append(tree)\n",
    "\n",
    "            y_pred += self.learning_rate * tree.predict(X)\n",
    "\n",
    "        return self\n",
    "\n",
    "    def predict(self, X):\n",
    "        y_pred = np.zeros(X.shape[0])\n",
    "        for tree in self.trees:\n",
    "            y_pred += self.learning_rate * tree.predict(X)\n",
    "\n",
    "        return y_pred"
   ]
  },
  {
   "cell_type": "code",
   "execution_count": 164,
   "metadata": {},
   "outputs": [
    {
     "name": "stdout",
     "output_type": "stream",
     "text": [
      "My GradientBoosting baseline MAE metric is: 66.84030272872587\n"
     ]
    }
   ],
   "source": [
    "numerical_transformer = StandardScaler()\n",
    "\n",
    "preprocessor = ColumnTransformer(\n",
    "    transformers=[\n",
    "        ('num', numerical_transformer, numerical_features),\n",
    "    ]\n",
    ")\n",
    "\n",
    "pipeline = Pipeline(steps=[\n",
    "    ('preprocessor', preprocessor),\n",
    "    ('classifier', GradientBoostingRegressorImpl(n_estimators=100, learning_rate=0.1, max_depth=2))\n",
    "])\n",
    "\n",
    "pipeline.fit(heihgts_X_train, heihgts_y_train)\n",
    "y_pred = pipeline.predict(heihgts_X_test)\n",
    "\n",
    "print(f\"My GradientBoosting baseline MAE metric is: {mean_absolute_error(heihgts_y_test, y_pred)}\")"
   ]
  },
  {
   "cell_type": "markdown",
   "metadata": {},
   "source": [
    "### Выводы"
   ]
  },
  {
   "cell_type": "markdown",
   "metadata": {},
   "source": [
    "Исследования показали, что градиентный бустинг демонстрирует лучшие результаты как в задачах классификации, так и регрессии. Кроме того, настройка гиперпараметров и добавление новых признаков иногда улучшают начальные модели, особенно в случае с деревьями решений и случайным лесом. При разработке собственных алгоритмов, как правило, использование готовых библиотек оказывается более эффективным и времени затратным. Например, в линейных моделях и градиентном бустинге собственные реализации обычно уступают улучшенным базовым моделям. Хотя иногда можно достичь несколько более высокой точности, производительность всё же заметно уступает.\n"
   ]
  },
  {
   "cell_type": "markdown",
   "metadata": {},
   "source": [
    "# Результаты"
   ]
  },
  {
   "cell_type": "markdown",
   "metadata": {},
   "source": [
    "<table>\n",
    "  <tr>\n",
    "    <th>Алгоритм</th>\n",
    "    <th>Задача</th>\n",
    "    <th>Бейзлайн</th>\n",
    "    <th>Улучшенный бейзлайн</th>\n",
    "    <th>Самостоятельная реализация алгоритма</th>\n",
    "  </tr>\n",
    "  <tr>\n",
    "    <td rowspan=\"2\">KNN</td>\n",
    "    <td>классификация</td>\n",
    "    <td>0.7580645161290323</td>\n",
    "    <td>0.7338709677419355</td>\n",
    "    <td>0.7661290322580645</td>\n",
    "  </tr>\n",
    "  <tr>\n",
    "    <td>регрессия</td>\n",
    "    <td>1.874331550802139</td>\n",
    "    <td>1.689483065953654</td>\n",
    "    <td>1.6995187165775405</td>\n",
    "  </tr>\n",
    "  <tr>\n",
    "    <td rowspan=\"2\">Линейные модели</td>\n",
    "    <td>классификация</td>\n",
    "    <td>0.7661290322580645</td>\n",
    "    <td>0.7580645161290323</td>\n",
    "    <td>0.75</td>\n",
    "  </tr>\n",
    "  <tr>\n",
    "    <td>регрессия</td>\n",
    "    <td>1.69415968417844</td>\n",
    "    <td>1.6874244143111958</td>\n",
    "    <td>1.69415968417844</td>\n",
    "  </tr>\n",
    "  <tr>\n",
    "    <td rowspan=\"2\">Решающее дерево</td>\n",
    "    <td>классификация</td>\n",
    "    <td>0.7419354838709677</td>\n",
    "    <td>0.7580645161290323</td>\n",
    "    <td>0.7580645161290323</td>\n",
    "  </tr>\n",
    "  <tr>\n",
    "    <td>регрессия</td>\n",
    "    <td>1.6990912577594033</td>\n",
    "    <td>1.6989086011538217</td>\n",
    "    <td>1.6989086011538217</td>\n",
    "  </tr>\n",
    "  <tr>\n",
    "    <td rowspan=\"2\">Случайный лес</td>\n",
    "    <td>классификация</td>\n",
    "    <td>0.7661290322580645</td>\n",
    "    <td>0.7580645161290323</td>\n",
    "    <td>0.7741935483870968</td>\n",
    "  </tr>\n",
    "  <tr>\n",
    "    <td>регрессия</td>\n",
    "    <td>1.6575502913383933</td>\n",
    "    <td>1.6452009951137</td>\n",
    "    <td>1.6466872104652999</td>\n",
    "  </tr>\n",
    "  <tr>\n",
    "    <td rowspan=\"2\">Градиентный бустинг</td>\n",
    "    <td>классификация</td>\n",
    "    <td>0.75</td>\n",
    "    <td>0.7903225806451613</td>\n",
    "    <td>0.75</td>\n",
    "  </tr>\n",
    "  <tr>\n",
    "    <td>регрессия</td>\n",
    "    <td>1.6762165478919013</td>\n",
    "    <td>1.6762165478919013</td>\n",
    "    <td>66.84030272872587</td>\n",
    "  </tr>\n",
    "</table>"
   ]
  }
 ],
 "metadata": {
  "kernelspec": {
   "display_name": "Python 3",
   "language": "python",
   "name": "python3"
  },
  "language_info": {
   "codemirror_mode": {
    "name": "ipython",
    "version": 3
   },
   "file_extension": ".py",
   "mimetype": "text/x-python",
   "name": "python",
   "nbconvert_exporter": "python",
   "pygments_lexer": "ipython3",
   "version": "3.9.6"
  }
 },
 "nbformat": 4,
 "nbformat_minor": 2
}
